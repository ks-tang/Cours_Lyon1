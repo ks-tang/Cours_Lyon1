{
  "cells": [
    {
      "cell_type": "markdown",
      "source": [
        "# TP 2 : RL\n",
        "\n",
        "**Il est interdit d'utiliser la fonction 'compile' de TensorFlow pour ce TP**\n",
        "\n",
        "Source utile : https://arxiv.org/pdf/1312.5602.pdf\n",
        "\n",
        "Le but de ce TP sera de découvrir et mettre en place un algorithme d'apprentissage par renforcement profond : le DQN.\n",
        "Vous apprendrez à un agent à jouer au jeu du cartpole, qui consiste à déplacer une plateforme sur laquelle est posé un baton de manière à ce que le baton reste en équilibre sur la plateforme.\n",
        "\n",
        "Nous allons utiliser la librairie TensorFlow et faire tourner notre code sous Google Colab pour nos TP, ce qui aura l'avantage de nous permettre d'utiliser les GPUs mis à disposition gratuitement par Google.\n",
        "Vous êtes libre d'utiliser une autre librairie que TensorFlow si vous en maîtrisez une autre ou votre machine personnelle si celle-ci possède un GPU suffisant, mais il est probable que les phases d'entraînement soit plus rapides sous Colab.\n",
        "\n",
        "N'hésitez pas à vous référer aux docs de TensorFlow 2 et Keras disponibles sur internet lors de ce TP.\n",
        "\n",
        "Ce TP s'effectue individuellement ou en binome. Veuillez respecter les consignes suivantes pour le rendu de votre travail :\n",
        "\n",
        "*   Renommez le selon le format suivant : \"DL_2023_TP_RL_prenom1_nom1_prenom2_nom2.ipynb\".\n",
        "*   Veillez à ce que votre nom et prénom soient complétés dans la cellule ci-dessous.\n",
        "*   Veillez à avoir bien exécuté toutes les cellules de code et que les résultats soient tous bien visible dans le notebook sans nécessiter une ré-exécution.\n",
        "*   Partagez le notebook avec ranvier.thomas.pro@gmail.com.\n",
        "\n",
        "Si vous avez effectué le TP autrement que sur Google Colab :\n",
        "\n",
        "*   Renommez le selon le format suivant : \"DL_2023_TP_RL_prenom1_nom1_prenom2_nom2.ipynb\".\n",
        "*   Téléchargez le fichier ipynb.\n",
        "*   Envoyez le fichier en pièce-jointe à ranvier.thomas.pro@gmail.com, en indiquant en tant qu'objet : \"TP RL prenom1 nom1 prenom2 nom2\".\n",
        "\n",
        "---"
      ],
      "metadata": {
        "id": "NAo7olMnQer5"
      }
    },
    {
      "cell_type": "markdown",
      "source": [
        "## Veuillez compléter vos noms et prénoms ci-dessous :\n",
        "\n",
        "*   **Prenom 1** : Yann\n",
        "*   **Nom 1** : VINCENT\n",
        "*   **Prenom 2** : Kevin\n",
        "*   **Nom 2** : TANG"
      ],
      "metadata": {
        "id": "F9j4xHTgRV94"
      }
    },
    {
      "cell_type": "code",
      "execution_count": null,
      "metadata": {
        "id": "9weXyrTUH7Ii"
      },
      "outputs": [],
      "source": [
        "%%capture\n",
        "import tensorflow as tf\n",
        "import gym\n",
        "from gym.wrappers.record_video import RecordVideo\n",
        "import numpy as np\n",
        "import random\n",
        "import matplotlib.pyplot as plt\n",
        "import time\n",
        "from IPython.display import HTML\n",
        "from base64 import b64encode\n",
        "import warnings\n",
        "warnings.filterwarnings('ignore')\n",
        "%matplotlib inline"
      ]
    },
    {
      "cell_type": "markdown",
      "source": [
        "---\n",
        "# Visualisation d'un épisode de Cartpole\n",
        "\n",
        "Vous allez utiliser l'environement cartpole proposé par la librairie gym. A chaque étape l'environement nous envoie une observation correspondant à l'état actuel de l'environement et on doit envoyer une action (0 ou 1 pour gauche ou droite) en réponse.\n",
        "\n",
        "Commencez par visualiser un épisode en ne sélectionnant que des actions aléatoires."
      ],
      "metadata": {
        "id": "DKa9tv9DRnAe"
      }
    },
    {
      "cell_type": "code",
      "source": [
        "# Environment initialization\n",
        "env = gym.make('CartPole-v1')\n",
        "# Put the environment in a wrapper to save the episode video\n",
        "env = RecordVideo(env, './example')\n",
        "\n",
        "# Start a new episode and get the first environment state\n",
        "state = env.reset()\n",
        "done = False\n",
        "# While the episode is not over\n",
        "while not done:\n",
        "    # Select a random action\n",
        "    action_index = random.randrange(env.action_space.n)\n",
        "    # Execute selected action in the environment and get new observation and reward\n",
        "    next_state, reward, done, _ = env.step(action_index)\n",
        "\n",
        "env.close()"
      ],
      "metadata": {
        "id": "fdxFSqSwRpxo"
      },
      "execution_count": null,
      "outputs": []
    },
    {
      "cell_type": "code",
      "source": [
        "state"
      ],
      "metadata": {
        "colab": {
          "base_uri": "https://localhost:8080/"
        },
        "id": "csLLrkqP_Hf4",
        "outputId": "ec9e46b9-e1bb-4f2d-d39c-092def913c4c"
      },
      "execution_count": null,
      "outputs": [
        {
          "output_type": "execute_result",
          "data": {
            "text/plain": [
              "array([ 0.02939191,  0.03054197, -0.02574031, -0.00196897], dtype=float32)"
            ]
          },
          "metadata": {},
          "execution_count": 12
        }
      ]
    },
    {
      "cell_type": "code",
      "source": [
        "def viz_episode(filename):\n",
        "    mp4 = open('./example/' + filename,'rb').read()\n",
        "    data_url = \"data:video/mp4;base64,\" + b64encode(mp4).decode()\n",
        "\n",
        "    return HTML(\"\"\"\n",
        "    <video width=400 controls>\n",
        "        <source src=\"%s\" type=\"video/mp4\">\n",
        "    </video>\n",
        "    \"\"\" % data_url)\n",
        "\n",
        "# Play the episode video\n",
        "viz_episode('rl-video-episode-0.mp4')"
      ],
      "metadata": {
        "id": "AI7l5H1nH-Ev",
        "colab": {
          "base_uri": "https://localhost:8080/",
          "height": 288
        },
        "outputId": "692a638b-fa3d-43f6-ba24-c25491d62c8e"
      },
      "execution_count": null,
      "outputs": [
        {
          "output_type": "execute_result",
          "data": {
            "text/plain": [
              "<IPython.core.display.HTML object>"
            ],
            "text/html": [
              "\n",
              "    <video width=400 controls>\n",
              "        <source src=\"data:video/mp4;base64,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\" type=\"video/mp4\">\n",
              "    </video>\n",
              "    "
            ]
          },
          "metadata": {},
          "execution_count": 3
        }
      ]
    },
    {
      "cell_type": "markdown",
      "source": [
        "---\n",
        "# Déclaration des hyperparamètres\n",
        "\n",
        "Le but de ce TP n'étant pas de chercher les meilleurs hyperparamètres possibles vous trouverez ci-dessous l'initilisation d'hyperparamètres par défaut qui donnent de bons résultats."
      ],
      "metadata": {
        "id": "DIgNg6VwamUw"
      }
    },
    {
      "cell_type": "code",
      "source": [
        "# Reinitialize environment\n",
        "env = gym.make('CartPole-v1')\n",
        "\n",
        "# Get environment observation size and number of possible actions\n",
        "obs_size = env.observation_space.shape[0]\n",
        "nb_actions = env.action_space.n\n",
        "\n",
        "#Hyper Parameters\n",
        "training_episodes = 200                     # Max number of training episodes\n",
        "gamma = .95                                 # Discount factor used in Q-function\n",
        "learning_rate = .001                        # Learning rate of the optimizer\n",
        "batch_size = 24\n",
        "epsilon_max = 1.                            # Maximum epsilon value at 1.\n",
        "epsilon_min = .05                           # Minimum epsilon value at .05\n",
        "epsilon_decay = .995                        # Epsilon decay factor at .995\n",
        "replay_memory_capacity = 2500               # Limit memory capacity at 2500\n",
        "print_step = 10                             # Print recap every 10 steps\n",
        "target_avg_reward = 300                     # Early stop if avg reward >= 200"
      ],
      "metadata": {
        "id": "p_BEbYTGECeJ"
      },
      "execution_count": null,
      "outputs": []
    },
    {
      "cell_type": "markdown",
      "source": [
        "---\n",
        "# Création de la replay memory\n",
        "\n",
        "La replay memory est utilisée pour stocker les transitions entre l'agent et l'environement. Chaque transition stockée est composée de l'état de départ, l'action réalisée par l'agent, l'état d'arrivée, le reward obtenu et si l'état d'arrivée est terminal ou non."
      ],
      "metadata": {
        "id": "Cqe9HTaSa90g"
      }
    },
    {
      "cell_type": "code",
      "source": [
        "class ReplayMemory:\n",
        "    def __init__(self, capacity):\n",
        "        self._capacity = capacity\n",
        "        self._memory = []\n",
        "        self._position = 0\n",
        "\n",
        "    def push(self, state, next_state, action, reward, done):\n",
        "        \"\"\"\n",
        "        Cette méthode doit permettre de stocker une transition dans la mémoire\n",
        "        tout en s'assurant que le nombre d'transitions stockée ne dépasse pas\n",
        "        sa capacité.\n",
        "        Si c'est le cas la nouvelle transition doit écraser la plus ancienne.\n",
        "\n",
        "        Une transition contient :\n",
        "            - state: np.array, l'état de départ\n",
        "            - next_state: np.array, l'état d'arrivée\n",
        "            - action: tf.tensor, l'action effectuée. Dans un soucis d'efficience\n",
        "                      vous devez stocker l'action directement sous forme de\n",
        "                      one-hot tensor, obtenu avec : action = tf.one_hot(action_index, nb_actions)\n",
        "            - reward: int, le reward obtenu grâce à l'action effectuée\n",
        "            - done: boolean, indique si le baton est tombé ou non\n",
        "        \"\"\"\n",
        "        action_index = np.argmax(action.numpy())  # Obtenez l'indice de l'action à partir du one-hot tensor\n",
        "        action_one_hot = tf.one_hot(action_index, nb_actions)\n",
        "\n",
        "        transition = (state, next_state, action_one_hot, reward, done)\n",
        "\n",
        "        if len(self._memory) < self._capacity:\n",
        "            self._memory.append(transition)\n",
        "        else:\n",
        "            self._memory[self._position] = transition\n",
        "            self._position = (self._position + 1) % self._capacity\n",
        "\n",
        "    def sample(self, batch_size):\n",
        "        \"\"\"\n",
        "        Cette méthode doit extraire une minibatch de la taille voulue de la\n",
        "        mémoire de manière aléatoire. Elle prend en entrée la taille de la batch\n",
        "        à extraire.\n",
        "\n",
        "        La méthode doit retourner :\n",
        "            - state_s: np.array, contenant les états de départ\n",
        "            - state_next_s: np.array, contenant les états d'arrivées\n",
        "            - action_s: tf.tensor, contenant les one-hots vectors des actions\n",
        "            - rewards_s: tf.tensor, contenant les rewards\n",
        "            - opp_done_s: tf.tensor, contenant l'opposé du flag 'done' converti en float\n",
        "        \"\"\"\n",
        "        # Sélection aléatoire des indices de la mémoire\n",
        "        indices = random.sample(range(len(self._memory)), batch_size)\n",
        "\n",
        "        # Initialisation des listes pour stocker les données de la minibatch\n",
        "        state_s, state_next_s, action_s, rewards_s, opp_done_s = [], [], [], [], []\n",
        "\n",
        "        # Extraction des données de la mémoire pour chaque indice sélectionné\n",
        "        for index in indices:\n",
        "            state, next_state, action, reward, done = self._memory[index]\n",
        "\n",
        "            # Ajout des données dans les listes\n",
        "            state_s.append(state)\n",
        "            state_next_s.append(next_state)\n",
        "            action_s.append(action)\n",
        "            rewards_s.append(reward)\n",
        "            opp_done_s.append(1.0 - float(done))\n",
        "\n",
        "        # Conversion des listes en numpy arrays et tensors TensorFlow\n",
        "        state_s = np.array(state_s)\n",
        "        state_next_s = np.array(state_next_s)\n",
        "        action_s = tf.convert_to_tensor(action_s)\n",
        "        rewards_s = tf.convert_to_tensor(rewards_s, dtype=tf.float32)\n",
        "        opp_done_s = tf.convert_to_tensor(opp_done_s, dtype=tf.float32)\n",
        "\n",
        "        return state_s, state_next_s, action_s, rewards_s, opp_done_s\n",
        "\n",
        "\n",
        "    def __len__(self):\n",
        "        \"\"\"\n",
        "        Cette méthode override les appels de length sur l'objet ReplayMemory.\n",
        "        Elle doit retourner la quantité actuelle de transitions sauvegardées\n",
        "        dans la mémoire.\n",
        "        \"\"\"\n",
        "        return len(self._memory)"
      ],
      "metadata": {
        "id": "J7PFieKDEHwS"
      },
      "execution_count": null,
      "outputs": []
    },
    {
      "cell_type": "markdown",
      "source": [
        "---\n",
        "# Création de l'agent\n",
        "\n",
        "L'agent apprend à intéragir et executer ses actions avec l'environnement."
      ],
      "metadata": {
        "id": "0hgJHikO_k-9"
      }
    },
    {
      "cell_type": "code",
      "source": [
        "class Agent():\n",
        "    def __init__(self, replay_memory, model, optimizer, loss_function, env):\n",
        "        self._rm = replay_memory\n",
        "        self._epsilon = epsilon_max\n",
        "        self._model = model\n",
        "        self._optimizer = optimizer\n",
        "        self._loss_function = loss_function\n",
        "        self._env = env\n",
        "        # History\n",
        "        self._reward_hist = []\n",
        "\n",
        "    def train(self):\n",
        "        \"\"\"\n",
        "        Méthode principale, lance l'entraînement de l'agent.\n",
        "        \"\"\"\n",
        "        start = time.time()\n",
        "        avg_reward = 0\n",
        "        for episode in range(training_episodes):\n",
        "            # Run 1 episode\n",
        "            episode_reward = self._run_episode()\n",
        "            self._reward_hist.append(episode_reward)\n",
        "            avg_reward += episode_reward\n",
        "            if (episode + 1) % print_step == 0:\n",
        "                print(f'episode: {episode + 1}/{training_episodes}, avg reward: {avg_reward / print_step}, e: {self._epsilon}')\n",
        "                # Early stop\n",
        "                if avg_reward / print_step >= target_avg_reward:\n",
        "                    break\n",
        "                avg_reward = 0\n",
        "        print(f'training done in {time.time() - start:.2f}s')\n",
        "        self._plot_history()\n",
        "\n",
        "    def _run_episode(self):\n",
        "        \"\"\"\n",
        "        Cette méthode doit exécuter un épisode d'apprentissage.\n",
        "        \"\"\"\n",
        "        # Initialize environment and get first state\n",
        "        state = self._env.reset()\n",
        "\n",
        "        episode_reward = 0\n",
        "        done = False\n",
        "        while not done:\n",
        "            # Select an action, randomly in epsilon % of the time, and using\n",
        "            # the model output otherwise.\n",
        "            if np.random.rand() < self._epsilon:\n",
        "                action_index = np.random.choice(self._env.action_space.n)\n",
        "            else:\n",
        "                state_tensor = tf.convert_to_tensor(state, dtype=tf.float32)\n",
        "                state_tensor = tf.expand_dims(state_tensor, axis=0)\n",
        "                q_values = self._model(state_tensor)\n",
        "                action_index = tf.argmax(q_values[0]).numpy()\n",
        "\n",
        "            # Perform selected action in the environment, get next state, reward\n",
        "            # and done status\n",
        "            next_state, reward, done, _ = self._env.step(action_index)\n",
        "\n",
        "            # Convert the next state to np.array type\n",
        "            next_state = np.array(next_state, dtype=np.float32)\n",
        "\n",
        "            # Update episode total reward\n",
        "            # Ajouter la logique de récompense en fonction de l'éloignement du centre ici\n",
        "            position = next_state[0]  # Assuming the position information is in the first element\n",
        "            # Récupérer l'angle depuis le state\n",
        "            angle = next_state[2]  # Modifier cela en fonction de la position de l'angle dans le state\n",
        "\n",
        "            # Calculer la récompense en fonction de la distance et de l'angle\n",
        "\n",
        "\n",
        "            reward_for_distance = 1 / (1 + abs(position))  # Ajustez cette formule si nécessaire\n",
        "            episode_reward += reward_for_distance\n",
        "\n",
        "\n",
        "            # Convert the selected action index to a one-hot tensor for\n",
        "            # efficiency (cf. tf.one_hot())\n",
        "            action_one_hot = tf.one_hot(action_index, self._env.action_space.n)\n",
        "\n",
        "            # Add observation to the replay memory\n",
        "            self._rm.push(state, next_state, action_one_hot, reward, done)\n",
        "\n",
        "            # Replace current state with next state\n",
        "            state = next_state\n",
        "\n",
        "            # If there are enough transitions in the replay memory:\n",
        "            if len(self._rm) >= batch_size:\n",
        "                # extract a minibatch from the memory\n",
        "                state_batch, next_state_batch, action_batch, reward_batch, opp_done_batch = self._rm.sample(batch_size)\n",
        "\n",
        "                # call the optimize function to train the model on the minibatch\n",
        "                self._optimize(state_batch, next_state_batch, action_batch, reward_batch, opp_done_batch)\n",
        "\n",
        "                # update epsilon\n",
        "                self._epsilon = max(epsilon_min, self._epsilon * epsilon_decay)\n",
        "\n",
        "        return episode_reward\n",
        "\n",
        "\n",
        "    @tf.function\n",
        "    def _optimize(self, state_s, state_next_s, action_s, rewards_s, opp_done_s):\n",
        "        \"\"\"\n",
        "        Cette méthode calcule la Q-loss, elle doit ensuite faire la\n",
        "        backpropagation.\n",
        "        \"\"\"\n",
        "        # Q-loss\n",
        "        q_values_target = self._model(state_next_s)\n",
        "        q_values_target = rewards_s + (gamma * tf.reduce_max(q_values_target, axis=1)) * opp_done_s\n",
        "        with tf.GradientTape() as tape:\n",
        "            q_values_pred = self._model(state_s)\n",
        "            q_values_pred = tf.reduce_sum(tf.multiply(q_values_pred, action_s), axis=1)\n",
        "            loss = self._loss_function(q_values_target, q_values_pred)\n",
        "        # Backpropagation (compute gradients and apply gradients using tf functions)\n",
        "        gradients = tape.gradient(loss, self._model.trainable_variables)\n",
        "        self._optimizer.apply_gradients(zip(gradients, self._model.trainable_variables))\n",
        "\n",
        "\n",
        "    def _plot_history(self):\n",
        "        plt.figure(figsize=(10, 5))\n",
        "        plt.plot(self._reward_hist)\n",
        "        plt.xlabel('episodes')\n",
        "        plt.ylabel('reward')\n",
        "        plt.title('Reward per episode')\n",
        "        plt.show()\n",
        "\n",
        "    def real_episode(self, env):\n",
        "        state = env.reset()\n",
        "        done = False\n",
        "        while not done:\n",
        "            output = self._model(np.expand_dims(state, axis=0))\n",
        "            action_index = np.argmax(output.numpy())\n",
        "            state, _, done, _ = env.step(action_index)"
      ],
      "metadata": {
        "id": "-Nu3ODtoJAhD"
      },
      "execution_count": null,
      "outputs": []
    },
    {
      "cell_type": "markdown",
      "source": [
        "---\n",
        "# Entraînement de l'agent\n",
        "\n",
        "Si tout est correct vous devriez voir la récompense moyenne des 10 derniers épisodes d'apprentissage commencer à augmenter entre 50 et 100 épisodes."
      ],
      "metadata": {
        "id": "nF8Ow2q9AF74"
      }
    },
    {
      "cell_type": "code",
      "source": [
        "import tensorflow as tf\n",
        "from tensorflow.keras import layers\n",
        "\n",
        "# Define a fully-connected model\n",
        "model = tf.keras.Sequential([\n",
        "    layers.Dense(64, activation='relu', input_shape=(obs_size,)),\n",
        "    layers.Dense(64, activation='relu'),\n",
        "    layers.Dense(nb_actions, activation='linear')  # Assuming nb_actions is the number of output actions\n",
        "])\n",
        "\n",
        "# Define optimizer and loss function\n",
        "optimizer = tf.keras.optimizers.Adam(learning_rate=learning_rate)\n",
        "loss_function = tf.keras.losses.MeanSquaredError()\n",
        "\n",
        "# Other hyperparameters\n",
        "replay_memory_capacity = 2500\n",
        "# ...\n",
        "\n",
        "# Create the replay memory\n",
        "replay_memory = ReplayMemory(replay_memory_capacity)\n",
        "\n",
        "# Create the agent\n",
        "agent = Agent(replay_memory, model, optimizer, loss_function, env)\n"
      ],
      "metadata": {
        "id": "FG8DLUTpD_Re"
      },
      "execution_count": null,
      "outputs": []
    },
    {
      "cell_type": "code",
      "source": [
        "# Training\n",
        "agent.train()"
      ],
      "metadata": {
        "id": "pIM9Vzc0D4cn",
        "colab": {
          "base_uri": "https://localhost:8080/",
          "height": 730
        },
        "outputId": "95d17e60-f198-454d-a891-c1776e16e906"
      },
      "execution_count": null,
      "outputs": [
        {
          "output_type": "stream",
          "name": "stdout",
          "text": [
            "episode: 10/200, avg reward: 16.674950668991812, e: 0.4598090507939749\n",
            "episode: 20/200, avg reward: 10.172172840430935, e: 0.26759021970270175\n",
            "episode: 30/200, avg reward: 10.018734796828983, e: 0.1572956799768517\n",
            "episode: 40/200, avg reward: 11.30206419345348, e: 0.08662902049662846\n",
            "episode: 50/200, avg reward: 18.63880735720187, e: 0.05\n",
            "episode: 60/200, avg reward: 63.69147199130911, e: 0.05\n",
            "episode: 70/200, avg reward: 83.82048285225576, e: 0.05\n",
            "episode: 80/200, avg reward: 80.18813419666103, e: 0.05\n",
            "episode: 90/200, avg reward: 121.96039721270589, e: 0.05\n",
            "episode: 100/200, avg reward: 168.80892200756892, e: 0.05\n",
            "episode: 110/200, avg reward: 54.905774149366565, e: 0.05\n",
            "episode: 120/200, avg reward: 226.55372143209902, e: 0.05\n",
            "episode: 130/200, avg reward: 329.6000999869488, e: 0.05\n",
            "training done in 118.25s\n"
          ]
        },
        {
          "output_type": "display_data",
          "data": {
            "text/plain": [
              "<Figure size 1000x500 with 1 Axes>"
            ],
            "image/png": "[encoded data removed]"
          },
          "metadata": {}
        }
      ]
    },
    {
      "cell_type": "code",
      "source": [
        "# Run a test episode\n",
        "env = gym.make('CartPole-v1')\n",
        "env = RecordVideo(env, './episode')\n",
        "agent.real_episode(env)\n",
        "env.close()"
      ],
      "metadata": {
        "id": "5149E2plInX1"
      },
      "execution_count": null,
      "outputs": []
    },
    {
      "cell_type": "code",
      "source": [
        "# Visualize the test episode\n",
        "viz_episode('../episode/rl-video-episode-0.mp4')"
      ],
      "metadata": {
        "id": "rkYVqPF3D4i2",
        "colab": {
          "base_uri": "https://localhost:8080/",
          "height": 288
        },
        "outputId": "2b869fb2-19e4-4852-88c7-1bb71c57e58a"
      },
      "execution_count": null,
      "outputs": [
        {
          "output_type": "execute_result",
          "data": {
            "text/plain": [
              "<IPython.core.display.HTML object>"
            ],
            "text/html": [
              "\n",
              "    <video width=400 controls>\n",
              "        <source src=\"data:video/mp4;base64,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\" type=\"video/mp4\">\n",
              "    </video>\n",
              "    "
            ]
          },
          "metadata": {},
          "execution_count": 64
        }
      ]
    }
  ],
  "metadata": {
    "accelerator": "GPU",
    "colab": {
      "provenance": []
    },
    "kernelspec": {
      "display_name": "Python 3",
      "name": "python3"
    },
    "language_info": {
      "name": "python"
    }
  },
  "nbformat": 4,
  "nbformat_minor": 0
}