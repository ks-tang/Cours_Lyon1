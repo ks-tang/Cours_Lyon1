{
 "cells": [
  {
   "cell_type": "markdown",
   "id": "ef98342a",
   "metadata": {},
   "source": [
    "# Partie 1\n",
    "\n",
    "Nous commençons par voir comment PyG stocke les graphes en tenseurs. Ensuite, nous verrons un petit exemple d’utilisation du package OGB.\n",
    "\n",
    "## 1. PyG Dataset et Data\n",
    "PyG a deux classes pour stocker et transformer les graphes en Tenseurs. La première est `torch_geometric.datasets` qui contient une variété d’ensemble de données graphes. La deuxième classe `torch_geometric.data` qui permet de manipuler des graphes en tant que tenseurs.\n",
    "\n",
    "\n",
    "### - PyG Dataset\n",
    "\n",
    "Exécuter la cellule ci-dessous pour télécharger l'ensemble de données de classification de graphes ENZYMES. Ce dataset contient 600 graphes."
   ]
  },
  {
   "cell_type": "code",
   "execution_count": 1,
   "id": "2dcee0bd",
   "metadata": {},
   "outputs": [
    {
     "name": "stdout",
     "output_type": "stream",
     "text": [
      "ENZYMES(600)\n"
     ]
    }
   ],
   "source": [
    "from torch_geometric.datasets import TUDataset\n",
    "\n",
    "root = './enzymes'\n",
    "name = 'ENZYMES'\n",
    "\n",
    "# Téléchargement l'ensemble de données ENZYMES\n",
    "pyg_dataset= TUDataset('./enzymes', 'ENZYMES')\n",
    "\n",
    "# Cet Ensemble de données contient 600 graphes\n",
    "print(pyg_dataset)"
   ]
  },
  {
   "cell_type": "markdown",
   "id": "a3580e09",
   "metadata": {},
   "source": [
    "###  Quel est le nombre de classes et le nombre de features dans le dataset ENZYMES?\n"
   ]
  },
  {
   "cell_type": "code",
   "execution_count": 2,
   "id": "e6ceb1d1",
   "metadata": {},
   "outputs": [
    {
     "name": "stdout",
     "output_type": "stream",
     "text": [
      "ENZYMES dataset a 0 classes\n",
      "ENZYMES dataset a 0 features\n"
     ]
    }
   ],
   "source": [
    "##############################Votre Code ici##############################\n",
    "num_classes = 0\n",
    "num_features = 0\n",
    "##########################################################################\n",
    "print(\"{} dataset a {} classes\".format(name, num_classes))\n",
    "print(\"{} dataset a {} features\".format(name, num_features))"
   ]
  },
  {
   "cell_type": "markdown",
   "id": "9504c387",
   "metadata": {},
   "source": [
    "### - PyG Data"
   ]
  },
  {
   "cell_type": "code",
   "execution_count": 3,
   "id": "bae2bb81",
   "metadata": {},
   "outputs": [
    {
     "name": "stdout",
     "output_type": "stream",
     "text": [
      "Data(edge_index=[2, 168], x=[37, 3], y=[1])\n"
     ]
    }
   ],
   "source": [
    "#  pyg_dataset est un dataset de classification de graphes\n",
    "graph_0 = pyg_dataset[0]\n",
    "print(graph_0)"
   ]
  },
  {
   "cell_type": "markdown",
   "id": "65a38fba",
   "metadata": {},
   "source": [
    "### Quelle est la classe (label) du graphe (index 50 dans l'ensemble de données ENZYMES) ?"
   ]
  },
  {
   "cell_type": "code",
   "execution_count": 4,
   "id": "e7d7fffd",
   "metadata": {},
   "outputs": [
    {
     "name": "stdout",
     "output_type": "stream",
     "text": [
      "Le graphe 50 a le label 0\n"
     ]
    }
   ],
   "source": [
    "############# Votre code ici ############\n",
    "idx = 50\n",
    "label =  0\n",
    "#########################################\n",
    "print('Le graphe {} a le label {}'.format(idx, label))"
   ]
  },
  {
   "cell_type": "markdown",
   "id": "89d76716",
   "metadata": {},
   "source": [
    "### Quelle est le nombre d'arêtes du graphe d'index 100? "
   ]
  },
  {
   "cell_type": "code",
   "execution_count": 5,
   "id": "cfc6c290",
   "metadata": {},
   "outputs": [
    {
     "name": "stdout",
     "output_type": "stream",
     "text": [
      "Le graphe 100 a 0 arêtes\n"
     ]
    }
   ],
   "source": [
    " ############# Votre code ici ############\n",
    "  ## Remarque:\n",
    "  ## 1. Vous ne pouvez pas retourner data.num_edges directement\n",
    "  ## 2. Le graphe est non orienté\n",
    "idx = 100\n",
    "\n",
    "num_edges = 0\n",
    " #########################################\n",
    "print('Le graphe {} a {} arêtes'.format(idx, num_edges))"
   ]
  },
  {
   "cell_type": "markdown",
   "id": "e72cec59",
   "metadata": {},
   "source": [
    "## 2. Open Graph Benchmark (OGB) \n",
    "\n",
    "L’OGB est une collection des ensembles de données réels  de grande échelle utilisés pour l’apprentissage automatique sur les graphes. Ces ensembles de données peuvent être téléchargés, traités, est divisés (entrainement, validation et test) automatiquement en utilisant l’OGB Data Loader. L’OGB permet également d’évaluer les performances des différents modèles d’apprentissage d’une manière unifiée.  L’OGB prend également en charge les ensembles de données et les données PyG.\n",
    "\n",
    "Nous allons jeter un coup d’œil sur l’ensemble de données `ogbn-arxiv`.\n",
    "\n",
    "- Exécuter la cellule ci-dessous pour charger l'ensemble de données et le transformer en tenseur."
   ]
  },
  {
   "cell_type": "code",
   "execution_count": 6,
   "id": "6110fc2f",
   "metadata": {},
   "outputs": [
    {
     "name": "stdout",
     "output_type": "stream",
     "text": [
      "Le ogbn-arxiv dataset a 1 graphe\n",
      "Data(num_nodes=169343, x=[169343, 128], node_year=[169343, 1], y=[169343, 1], adj_t=[169343, 169343, nnz=1166243])\n"
     ]
    }
   ],
   "source": [
    "import torch_geometric.transforms as T\n",
    "from ogb.nodeproppred import PygNodePropPredDataset\n",
    "\n",
    "dataset_name = 'ogbn-arxiv'\n",
    "# charger le dataset et le transformer en sparse tensor\n",
    "dataset = PygNodePropPredDataset(name=dataset_name,\n",
    "                                 transform=T.ToSparseTensor())\n",
    "print('Le {} dataset a {} graphe'.format(dataset_name, len(dataset)))\n",
    "\n",
    "# Extract the graph\n",
    "data = dataset[0]\n",
    "print(data)"
   ]
  },
  {
   "cell_type": "markdown",
   "id": "f5b094af",
   "metadata": {},
   "source": [
    "### Quel est le nombre de features dans le graphe ogbn-arxiv ?"
   ]
  },
  {
   "cell_type": "code",
   "execution_count": 7,
   "id": "e2a05314",
   "metadata": {},
   "outputs": [
    {
     "name": "stdout",
     "output_type": "stream",
     "text": [
      "le graphe a 0 features\n"
     ]
    }
   ],
   "source": [
    "################ Votre code ici ##########\n",
    " \n",
    "num_features =  0\n",
    "\n",
    "############################################\n",
    "print('le graphe a {} features'.format(num_features))"
   ]
  },
  {
   "cell_type": "markdown",
   "id": "22b11734",
   "metadata": {},
   "source": [
    "# Partie 2 : GNN pour la classification de noeuds\n",
    "\n",
    "Dans cette partie, nous allons construire notre premier réseau de neurones de graphes (GNN) en utilisant PyG et nous allons l'appliquer à la tache de prédiction de propriétés de nœuds (classification de nœuds). Notre modèle sera basé sur l’opérateur de convolution de graphes GCN (Kipf et al.2017). On ne vous demande pas d’implémenter cet opérateur. Vous devez utiliser directement la couche `GCNConv` de PyG.\n",
    "\n",
    "(Kipf et al.2017) : https://arxiv.org/pdf/1609.02907.pdf\n"
   ]
  },
  {
   "cell_type": "markdown",
   "id": "e2a970cc",
   "metadata": {},
   "source": [
    "## Setup"
   ]
  },
  {
   "cell_type": "code",
   "execution_count": 8,
   "id": "d61924e1",
   "metadata": {},
   "outputs": [
    {
     "name": "stdout",
     "output_type": "stream",
     "text": [
      "1.13.0+cpu\n"
     ]
    }
   ],
   "source": [
    "import torch\n",
    "import torch.nn.functional as F\n",
    "print(torch.__version__)\n",
    "\n",
    "# la couche GCNConv de PyG\n",
    "from torch_geometric.nn import GCNConv\n",
    "\n",
    "import torch_geometric.transforms as T\n",
    "from ogb.nodeproppred import PygNodePropPredDataset, Evaluator"
   ]
  },
  {
   "cell_type": "markdown",
   "id": "8c80a754",
   "metadata": {},
   "source": [
    "## Chargement et prétraitement de données"
   ]
  },
  {
   "cell_type": "code",
   "execution_count": 9,
   "id": "9f4f7da7",
   "metadata": {},
   "outputs": [
    {
     "name": "stdout",
     "output_type": "stream",
     "text": [
      "Device: cpu\n"
     ]
    }
   ],
   "source": [
    "dataset_name = 'ogbn-arxiv'\n",
    "dataset = PygNodePropPredDataset(name=dataset_name,\n",
    "                                 transform=T.ToSparseTensor())\n",
    "data = dataset[0]\n",
    "\n",
    "# Transformer la matrice d'adjacence en matrice Symétrique\n",
    "data.adj_t = data.adj_t.to_symmetric()\n",
    "\n",
    "device = 'cuda' if torch.cuda.is_available() else 'cpu'\n",
    "\n",
    "# Si vous utilisez un GPU, le device devrait etre cuda\n",
    "print('Device: {}'.format(device))\n",
    "\n",
    "# Diviser les données\n",
    "data = data.to(device)\n",
    "split_idx = dataset.get_idx_split()\n",
    "train_idx = split_idx['train'].to(device)"
   ]
  },
  {
   "attachments": {
    "image.png": {
     "image/png": "[encoded data removed]"
    }
   },
   "cell_type": "markdown",
   "id": "7b9019ce",
   "metadata": {},
   "source": [
    "## Le modèle GCN \n",
    "\n",
    "Nous allons maintenant implémenter le modèle suivant.\n",
    "\n",
    "![image.png](attachment:image.png)"
   ]
  },
  {
   "cell_type": "code",
   "execution_count": 16,
   "id": "c845c454",
   "metadata": {},
   "outputs": [],
   "source": [
    "class GCN(torch.nn.Module):\n",
    "    def __init__(self, input_dim, hidden_dim, output_dim, num_layers,\n",
    "                 dropout, return_embeds=False):\n",
    "        # à faire : Implémenter cette fonction qui initialise self.convs, self.bns et self.softmax\n",
    "    \n",
    "        super(GCN, self).__init__()\n",
    "\n",
    "        \n",
    "    \n",
    "        ################# Your code here ###########################################\n",
    "        ## Remarques : \n",
    "        ## 1. Vous devez utiliser torch.nn.ModuleList pour self.convs et self.bns\n",
    "        ## 2. self.convs a num_layers de couches GCNConv \n",
    "        ## 3. self.bns a (num_layers - 1) de couches BatchNorm1d \n",
    "        ## 4. Utilisez torch.nn.LogSoftmax pour self.softmax\n",
    "        ## 5. Les paramètres que vous pouvez passer à la couche  GCNConv sont 'in_channels' et \n",
    "        ## 'out_channels'. Lien vers la documentation pour plus d'information :\n",
    "        ## https://pytorch-geometric.readthedocs.io/en/latest/modules/nn.html#torch_geometric.nn.conv.GCNConv\n",
    "        ## 6. le seul paramètre que vous devez passer à BatchNorm1d est  'num_features'\n",
    "        ## Lien vers la documentation pour plus d'information :\n",
    "        ## https://pytorch.org/docs/stable/generated/torch.nn.BatchNorm1d.html\n",
    "\n",
    "\n",
    "        # Une liste des couches GCNConv  : Vore code Ici\n",
    "         self.convs = None\n",
    "\n",
    "        # Une liste de couches 1D de batch normalization : Votre Code Ici\n",
    "         self.bns = None\n",
    "            \n",
    "        # la couche log softmax layer : Votre Code Ici\n",
    "         self.softmax = None\n",
    "\n",
    "       ########################################################################################\n",
    "\n",
    "        # Probabilité d'un élement d'etre mis à 0 \n",
    "        self.dropout = dropout\n",
    "\n",
    "        # Sauter la couche de  classification et retourner les embeddings\n",
    "        self.return_embeds = return_embeds\n",
    "\n",
    "    def reset_parameters(self):\n",
    "        for conv in self.convs:\n",
    "            conv.reset_parameters()\n",
    "        for bn in self.bns:\n",
    "            bn.reset_parameters()\n",
    "\n",
    "    def forward(self, x, adj_t):\n",
    "        # à faire : Implementer la fonction forward \n",
    "        # Entrées : feature tensor x, edge_index_tensor adj_t\n",
    "        # Retour : Tensor Voir la figure \n",
    "        \n",
    "        \n",
    "        ################# Your code here ###########################################\n",
    "        ## Remarques : \n",
    "        ## 1. Contruire le modèle en suivant la figure ci-dessus\n",
    "        ## 2. Utilisez torch.nn.functional.relu and torch.nn.functional.dropout \n",
    "        ## lien vers documentation : https://pytorch.org/docs/stable/nn.functional.html\n",
    "        ## 3. F.dropout n'est utilisée qu'au training \n",
    "        ## 4. Si return_embeds = True, alors sauter (skip) la couche softmax\n",
    "        \n",
    "        out = None\n",
    "        ##############################################################################################\n",
    "\n",
    "        return out"
   ]
  },
  {
   "cell_type": "code",
   "execution_count": 17,
   "id": "a639ef92",
   "metadata": {},
   "outputs": [],
   "source": [
    "def train(model, data, train_idx, optimizer, loss_fn):\n",
    "    # à faire : implémenter la fonction train qui entraine le modèle\n",
    "    # en utilisant les argument en entrée : optimizer et loss_fn\n",
    "    model.train()\n",
    "    loss = 0\n",
    "\n",
    "    ##################################### Vore coode ici #####################################\n",
    "    ## Remarques :\n",
    "    ## 1. N'oubliez pas mettre les gradients à zero : zero_grad()\n",
    "    ## 2. Passez data au modèle\n",
    "    ## 3. Découpez (Tranchez) la sortie du modèle et de les étiquettes data.y par train_idx\n",
    "    ## 4. Passez l'ouput et les étiquettes tranchés à loss_fn\n",
    "    \n",
    "    \n",
    "\n",
    "    ##########################################################################################\n",
    "\n",
    "    loss.backward()\n",
    "    optimizer.step()\n",
    "\n",
    "    return loss.item()s"
   ]
  },
  {
   "cell_type": "code",
   "execution_count": 18,
   "id": "6c2a14d6",
   "metadata": {},
   "outputs": [],
   "source": [
    "# La fonction Test\n",
    "@torch.no_grad()\n",
    "def test(model, data, split_idx, evaluator):\n",
    "    # à faire : Implémenter cette fonction qui test votre modèle \n",
    "    # en utilisant les arguments split_idx and evaluator.\n",
    "    model.eval()\n",
    "\n",
    "    # L'output du model de tous les élements de data\n",
    "    out = None\n",
    "\n",
    "    ############# Votre code ici #########################################\n",
    "    ## Remarque: (Une ligne de code)\n",
    "    ## 1. Aucun découpage des données par index ici\n",
    "   \n",
    "    \n",
    "    ##############################################################################\n",
    "\n",
    "    y_pred = out.argmax(dim=-1, keepdim=True)\n",
    "\n",
    "    train_acc = evaluator.eval({\n",
    "        'y_true': data.y[split_idx['train']],\n",
    "        'y_pred': y_pred[split_idx['train']],\n",
    "    })['acc']\n",
    "    valid_acc = evaluator.eval({\n",
    "        'y_true': data.y[split_idx['valid']],\n",
    "        'y_pred': y_pred[split_idx['valid']],\n",
    "    })['acc']\n",
    "    test_acc = evaluator.eval({\n",
    "        'y_true': data.y[split_idx['test']],\n",
    "        'y_pred': y_pred[split_idx['test']],\n",
    "    })['acc']\n",
    "\n",
    "    return train_acc, valid_acc, test_acc"
   ]
  },
  {
   "cell_type": "code",
   "execution_count": 19,
   "id": "e847e292",
   "metadata": {},
   "outputs": [
    {
     "data": {
      "text/plain": [
       "{'device': 'cpu',\n",
       " 'num_layers': 3,\n",
       " 'hidden_dim': 256,\n",
       " 'dropout': 0.5,\n",
       " 'lr': 0.01,\n",
       " 'epochs': 100}"
      ]
     },
     "execution_count": 19,
     "metadata": {},
     "output_type": "execute_result"
    }
   ],
   "source": [
    "# Ne changez pas les valeurs des ces arguments\n",
    "args = {\n",
    "    'device': device,\n",
    "    'num_layers': 3,\n",
    "    'hidden_dim': 256,\n",
    "    'dropout': 0.5,\n",
    "    'lr': 0.01,\n",
    "    'epochs': 100,\n",
    "}\n",
    "args"
   ]
  },
  {
   "cell_type": "code",
   "execution_count": 20,
   "id": "67ac9fb9",
   "metadata": {},
   "outputs": [],
   "source": [
    "model = GCN(data.num_features, args['hidden_dim'],\n",
    "            dataset.num_classes, args['num_layers'],\n",
    "            args['dropout']).to(device)\n",
    "evaluator = Evaluator(name='ogbn-arxiv')"
   ]
  },
  {
   "cell_type": "code",
   "execution_count": 21,
   "id": "770f4afd",
   "metadata": {},
   "outputs": [
    {
     "name": "stderr",
     "output_type": "stream",
     "text": [
      "C:\\Users\\Kiouche\\AppData\\Local\\Temp\\ipykernel_3768\\2758887035.py:77: UserWarning: Implicit dimension choice for log_softmax has been deprecated. Change the call to include dim=X as an argument.\n",
      "  out = x if self.return_embeds else self.softmax(x)\n"
     ]
    },
    {
     "name": "stdout",
     "output_type": "stream",
     "text": [
      "Epoch: 01, Loss: 4.3024, Train: 11.68%, Valid: 23.21% Test: 21.65%\n",
      "Epoch: 02, Loss: 2.3311, Train: 24.55%, Valid: 23.48% Test: 29.28%\n",
      "Epoch: 03, Loss: 1.9701, Train: 23.22%, Valid: 18.20% Test: 16.45%\n",
      "Epoch: 04, Loss: 1.8003, Train: 29.35%, Valid: 29.34% Test: 31.33%\n",
      "Epoch: 05, Loss: 1.6826, Train: 33.23%, Valid: 27.67% Test: 31.65%\n",
      "Epoch: 06, Loss: 1.5940, Train: 36.85%, Valid: 29.84% Test: 33.66%\n",
      "Epoch: 07, Loss: 1.5406, Train: 37.44%, Valid: 28.96% Test: 31.89%\n",
      "Epoch: 08, Loss: 1.4764, Train: 34.72%, Valid: 25.18% Test: 26.46%\n",
      "Epoch: 09, Loss: 1.4314, Train: 32.92%, Valid: 26.24% Test: 28.48%\n",
      "Epoch: 10, Loss: 1.3996, Train: 32.01%, Valid: 28.59% Test: 33.40%\n",
      "Epoch: 11, Loss: 1.3626, Train: 31.24%, Valid: 28.77% Test: 34.14%\n",
      "Epoch: 12, Loss: 1.3281, Train: 32.18%, Valid: 29.19% Test: 34.70%\n",
      "Epoch: 13, Loss: 1.3002, Train: 35.65%, Valid: 32.08% Test: 37.69%\n",
      "Epoch: 14, Loss: 1.2816, Train: 39.80%, Valid: 36.75% Test: 42.14%\n",
      "Epoch: 15, Loss: 1.2605, Train: 43.60%, Valid: 41.93% Test: 47.04%\n",
      "Epoch: 16, Loss: 1.2450, Train: 45.70%, Valid: 44.56% Test: 49.37%\n",
      "Epoch: 17, Loss: 1.2340, Train: 46.93%, Valid: 45.81% Test: 50.65%\n",
      "Epoch: 18, Loss: 1.2129, Train: 48.18%, Valid: 46.88% Test: 51.49%\n",
      "Epoch: 19, Loss: 1.1966, Train: 49.50%, Valid: 48.02% Test: 52.33%\n",
      "Epoch: 20, Loss: 1.1940, Train: 51.68%, Valid: 50.78% Test: 54.69%\n",
      "Epoch: 21, Loss: 1.1857, Train: 54.08%, Valid: 53.54% Test: 57.07%\n",
      "Epoch: 22, Loss: 1.1695, Train: 56.37%, Valid: 56.36% Test: 59.23%\n",
      "Epoch: 23, Loss: 1.1579, Train: 58.02%, Valid: 58.18% Test: 60.61%\n",
      "Epoch: 24, Loss: 1.1468, Train: 59.11%, Valid: 59.14% Test: 61.24%\n",
      "Epoch: 25, Loss: 1.1396, Train: 60.01%, Valid: 59.83% Test: 61.54%\n",
      "Epoch: 26, Loss: 1.1290, Train: 60.82%, Valid: 60.37% Test: 62.15%\n",
      "Epoch: 27, Loss: 1.1250, Train: 61.96%, Valid: 61.18% Test: 63.11%\n",
      "Epoch: 28, Loss: 1.1125, Train: 63.40%, Valid: 62.91% Test: 64.54%\n",
      "Epoch: 29, Loss: 1.1083, Train: 64.54%, Valid: 64.07% Test: 65.55%\n",
      "Epoch: 30, Loss: 1.1013, Train: 65.43%, Valid: 65.04% Test: 66.21%\n",
      "Epoch: 31, Loss: 1.0946, Train: 65.74%, Valid: 65.37% Test: 66.45%\n",
      "Epoch: 32, Loss: 1.0877, Train: 65.87%, Valid: 65.38% Test: 66.55%\n",
      "Epoch: 33, Loss: 1.0832, Train: 65.97%, Valid: 65.42% Test: 66.55%\n",
      "Epoch: 34, Loss: 1.0792, Train: 66.54%, Valid: 66.13% Test: 67.14%\n",
      "Epoch: 35, Loss: 1.0751, Train: 67.22%, Valid: 66.99% Test: 67.71%\n",
      "Epoch: 36, Loss: 1.0643, Train: 67.70%, Valid: 67.53% Test: 68.11%\n",
      "Epoch: 37, Loss: 1.0643, Train: 68.20%, Valid: 68.05% Test: 68.50%\n",
      "Epoch: 38, Loss: 1.0612, Train: 68.66%, Valid: 68.58% Test: 68.92%\n",
      "Epoch: 39, Loss: 1.0516, Train: 68.97%, Valid: 68.98% Test: 69.17%\n",
      "Epoch: 40, Loss: 1.0493, Train: 69.12%, Valid: 69.14% Test: 69.41%\n",
      "Epoch: 41, Loss: 1.0456, Train: 69.14%, Valid: 69.18% Test: 69.41%\n",
      "Epoch: 42, Loss: 1.0406, Train: 69.26%, Valid: 69.38% Test: 69.45%\n",
      "Epoch: 43, Loss: 1.0391, Train: 69.49%, Valid: 69.61% Test: 69.41%\n",
      "Epoch: 44, Loss: 1.0334, Train: 69.67%, Valid: 69.74% Test: 69.56%\n",
      "Epoch: 45, Loss: 1.0294, Train: 69.87%, Valid: 69.92% Test: 69.71%\n",
      "Epoch: 46, Loss: 1.0292, Train: 70.11%, Valid: 70.09% Test: 69.95%\n",
      "Epoch: 47, Loss: 1.0249, Train: 70.43%, Valid: 70.23% Test: 70.07%\n",
      "Epoch: 48, Loss: 1.0211, Train: 70.76%, Valid: 70.39% Test: 70.03%\n",
      "Epoch: 49, Loss: 1.0167, Train: 70.98%, Valid: 70.43% Test: 69.97%\n",
      "Epoch: 50, Loss: 1.0132, Train: 71.13%, Valid: 70.62% Test: 69.97%\n",
      "Epoch: 51, Loss: 1.0103, Train: 71.19%, Valid: 70.70% Test: 70.25%\n",
      "Epoch: 52, Loss: 1.0100, Train: 71.21%, Valid: 70.64% Test: 70.42%\n",
      "Epoch: 53, Loss: 1.0042, Train: 71.12%, Valid: 70.65% Test: 70.55%\n",
      "Epoch: 54, Loss: 1.0021, Train: 71.16%, Valid: 70.61% Test: 70.69%\n",
      "Epoch: 55, Loss: 1.0022, Train: 71.34%, Valid: 70.82% Test: 70.82%\n",
      "Epoch: 56, Loss: 0.9987, Train: 71.44%, Valid: 70.94% Test: 70.91%\n",
      "Epoch: 57, Loss: 0.9957, Train: 71.59%, Valid: 71.10% Test: 70.90%\n",
      "Epoch: 58, Loss: 0.9924, Train: 71.69%, Valid: 71.14% Test: 70.82%\n",
      "Epoch: 59, Loss: 0.9886, Train: 71.82%, Valid: 71.11% Test: 70.73%\n",
      "Epoch: 60, Loss: 0.9862, Train: 71.84%, Valid: 71.08% Test: 70.75%\n",
      "Epoch: 61, Loss: 0.9880, Train: 71.79%, Valid: 71.08% Test: 70.71%\n",
      "Epoch: 62, Loss: 0.9831, Train: 71.81%, Valid: 71.10% Test: 70.75%\n",
      "Epoch: 63, Loss: 0.9820, Train: 71.96%, Valid: 71.24% Test: 70.89%\n",
      "Epoch: 64, Loss: 0.9795, Train: 72.12%, Valid: 71.38% Test: 70.82%\n",
      "Epoch: 65, Loss: 0.9773, Train: 72.21%, Valid: 71.20% Test: 70.44%\n",
      "Epoch: 66, Loss: 0.9759, Train: 72.19%, Valid: 71.02% Test: 69.99%\n",
      "Epoch: 67, Loss: 0.9734, Train: 72.26%, Valid: 71.12% Test: 70.31%\n",
      "Epoch: 68, Loss: 0.9696, Train: 72.42%, Valid: 71.18% Test: 70.54%\n",
      "Epoch: 69, Loss: 0.9679, Train: 72.59%, Valid: 71.19% Test: 70.39%\n",
      "Epoch: 70, Loss: 0.9653, Train: 72.62%, Valid: 71.03% Test: 69.90%\n",
      "Epoch: 71, Loss: 0.9631, Train: 72.62%, Valid: 71.14% Test: 69.98%\n",
      "Epoch: 72, Loss: 0.9617, Train: 72.71%, Valid: 71.48% Test: 70.78%\n",
      "Epoch: 73, Loss: 0.9630, Train: 72.67%, Valid: 71.47% Test: 71.09%\n",
      "Epoch: 74, Loss: 0.9608, Train: 72.62%, Valid: 71.45% Test: 71.13%\n",
      "Epoch: 75, Loss: 0.9574, Train: 72.62%, Valid: 71.41% Test: 70.87%\n",
      "Epoch: 76, Loss: 0.9554, Train: 72.63%, Valid: 71.43% Test: 70.78%\n",
      "Epoch: 77, Loss: 0.9552, Train: 72.79%, Valid: 71.40% Test: 70.65%\n",
      "Epoch: 78, Loss: 0.9517, Train: 72.89%, Valid: 71.25% Test: 70.27%\n",
      "Epoch: 79, Loss: 0.9506, Train: 72.84%, Valid: 71.42% Test: 70.39%\n",
      "Epoch: 80, Loss: 0.9483, Train: 72.79%, Valid: 71.53% Test: 70.75%\n",
      "Epoch: 81, Loss: 0.9473, Train: 72.85%, Valid: 71.52% Test: 70.72%\n",
      "Epoch: 82, Loss: 0.9433, Train: 73.05%, Valid: 71.51% Test: 70.55%\n",
      "Epoch: 83, Loss: 0.9427, Train: 73.20%, Valid: 71.50% Test: 70.50%\n",
      "Epoch: 84, Loss: 0.9419, Train: 73.23%, Valid: 71.53% Test: 70.39%\n",
      "Epoch: 85, Loss: 0.9382, Train: 73.29%, Valid: 71.47% Test: 70.24%\n",
      "Epoch: 86, Loss: 0.9365, Train: 73.36%, Valid: 71.58% Test: 70.22%\n",
      "Epoch: 87, Loss: 0.9357, Train: 73.31%, Valid: 71.62% Test: 70.53%\n",
      "Epoch: 88, Loss: 0.9360, Train: 73.21%, Valid: 71.51% Test: 70.69%\n",
      "Epoch: 89, Loss: 0.9350, Train: 73.15%, Valid: 71.45% Test: 70.85%\n",
      "Epoch: 90, Loss: 0.9323, Train: 73.33%, Valid: 71.44% Test: 70.38%\n",
      "Epoch: 91, Loss: 0.9319, Train: 73.41%, Valid: 71.40% Test: 70.20%\n",
      "Epoch: 92, Loss: 0.9286, Train: 73.48%, Valid: 71.58% Test: 70.59%\n",
      "Epoch: 93, Loss: 0.9269, Train: 73.37%, Valid: 71.83% Test: 71.23%\n",
      "Epoch: 94, Loss: 0.9248, Train: 73.31%, Valid: 71.81% Test: 71.38%\n",
      "Epoch: 95, Loss: 0.9254, Train: 73.40%, Valid: 71.95% Test: 71.15%\n",
      "Epoch: 96, Loss: 0.9218, Train: 73.49%, Valid: 71.69% Test: 70.57%\n",
      "Epoch: 97, Loss: 0.9226, Train: 73.62%, Valid: 71.52% Test: 70.36%\n",
      "Epoch: 98, Loss: 0.9211, Train: 73.74%, Valid: 71.55% Test: 70.46%\n",
      "Epoch: 99, Loss: 0.9220, Train: 73.74%, Valid: 71.46% Test: 70.15%\n",
      "Epoch: 100, Loss: 0.9164, Train: 73.80%, Valid: 71.34% Test: 69.95%\n"
     ]
    }
   ],
   "source": [
    "import copy\n",
    "\n",
    "# reset the parameters to initial random value\n",
    "model.reset_parameters()\n",
    "\n",
    "optimizer = torch.optim.Adam(model.parameters(), lr=args['lr'])\n",
    "loss_fn = F.nll_loss\n",
    "\n",
    "best_model = None\n",
    "best_valid_acc = 0\n",
    "\n",
    "for epoch in range(1, 1 + args[\"epochs\"]):\n",
    "  loss = train(model, data, train_idx, optimizer, loss_fn)\n",
    "  result = test(model, data, split_idx, evaluator)\n",
    "  train_acc, valid_acc, test_acc = result\n",
    "  if valid_acc > best_valid_acc:\n",
    "      best_valid_acc = valid_acc\n",
    "      best_model = copy.deepcopy(model)\n",
    "  print(f'Epoch: {epoch:02d}, '\n",
    "        f'Loss: {loss:.4f}, '\n",
    "        f'Train: {100 * train_acc:.2f}%, '\n",
    "        f'Valid: {100 * valid_acc:.2f}% '\n",
    "        f'Test: {100 * test_acc:.2f}%')"
   ]
  },
  {
   "cell_type": "code",
   "execution_count": 22,
   "id": "694b6a05",
   "metadata": {},
   "outputs": [
    {
     "name": "stdout",
     "output_type": "stream",
     "text": [
      "Best model: Train: 73.40%, Valid: 71.95% Test: 71.15%\n"
     ]
    },
    {
     "name": "stderr",
     "output_type": "stream",
     "text": [
      "C:\\Users\\Kiouche\\AppData\\Local\\Temp\\ipykernel_3768\\2758887035.py:77: UserWarning: Implicit dimension choice for log_softmax has been deprecated. Change the call to include dim=X as an argument.\n",
      "  out = x if self.return_embeds else self.softmax(x)\n"
     ]
    }
   ],
   "source": [
    "best_result = test(best_model, data, split_idx, evaluator)\n",
    "train_acc, valid_acc, test_acc = best_result\n",
    "print(f'Best model: '\n",
    "      f'Train: {100 * train_acc:.2f}%, '\n",
    "      f'Valid: {100 * valid_acc:.2f}% '\n",
    "      f'Test: {100 * test_acc:.2f}%')"
   ]
  },
  {
   "cell_type": "markdown",
   "id": "e9cb05d2",
   "metadata": {},
   "source": [
    "# Partie 3 : GNN pour la classification de graphes\n",
    "\n",
    "Dans cette partie, nous allons créer un réseau de neurones de graphes GNN pour la prédiction des propriétés de graphes (classification de graphes)"
   ]
  },
  {
   "cell_type": "markdown",
   "id": "a474e676",
   "metadata": {},
   "source": [
    "## Chargement et prétraitement des données"
   ]
  },
  {
   "cell_type": "code",
   "execution_count": 10,
   "id": "061119b5",
   "metadata": {},
   "outputs": [
    {
     "name": "stdout",
     "output_type": "stream",
     "text": [
      "Device: cpu\n",
      "Task type: binary classification\n"
     ]
    }
   ],
   "source": [
    "from ogb.graphproppred import PygGraphPropPredDataset, Evaluator\n",
    "from torch_geometric.data import DataLoader\n",
    "from tqdm.notebook import tqdm\n",
    "\n",
    "# Chargement du dataset \n",
    "dataset = PygGraphPropPredDataset(name='ogbg-molhiv')\n",
    "\n",
    "device = 'cuda' if torch.cuda.is_available() else 'cpu'\n",
    "print('Device: {}'.format(device))\n",
    "\n",
    "split_idx = dataset.get_idx_split()\n",
    "\n",
    "# Afficher le type de la tâche (ça devrait afficher  classification binaire)\n",
    "print('Task type: {}'.format(dataset.task_type))"
   ]
  },
  {
   "cell_type": "code",
   "execution_count": 11,
   "id": "b266fbd6",
   "metadata": {},
   "outputs": [
    {
     "name": "stderr",
     "output_type": "stream",
     "text": [
      "C:\\Users\\Kiouche\\anaconda3\\envs\\GDL\\lib\\site-packages\\torch_geometric\\deprecation.py:12: UserWarning: 'data.DataLoader' is deprecated, use 'loader.DataLoader' instead\n",
      "  warnings.warn(out)\n"
     ]
    }
   ],
   "source": [
    "# chargement des données \n",
    "# On va entrainer le modèle de classification de graphes sur des batchs de 32 graphes\n",
    "# Mélanger (Shuffle) l'ordre des graphes dans l'ensemble d'entrainement\n",
    "train_loader = DataLoader(dataset[split_idx[\"train\"]], batch_size=32, shuffle=True, num_workers=0)\n",
    "valid_loader = DataLoader(dataset[split_idx[\"valid\"]], batch_size=32, shuffle=False, num_workers=0)\n",
    "test_loader = DataLoader(dataset[split_idx[\"test\"]], batch_size=32, shuffle=False, num_workers=0)"
   ]
  },
  {
   "cell_type": "code",
   "execution_count": 12,
   "id": "75b1173e",
   "metadata": {},
   "outputs": [
    {
     "data": {
      "text/plain": [
       "{'device': 'cpu',\n",
       " 'num_layers': 5,\n",
       " 'hidden_dim': 256,\n",
       " 'dropout': 0.5,\n",
       " 'lr': 0.001,\n",
       " 'epochs': 30}"
      ]
     },
     "execution_count": 12,
     "metadata": {},
     "output_type": "execute_result"
    }
   ],
   "source": [
    "# Ne changez pas ces valeurs\n",
    "args = {\n",
    "    'device': device,\n",
    "    'num_layers': 5,\n",
    "    'hidden_dim': 256,\n",
    "    'dropout': 0.5,\n",
    "    'lr': 0.001,\n",
    "    'epochs': 30,\n",
    "}\n",
    "args"
   ]
  },
  {
   "cell_type": "markdown",
   "id": "43ffc940",
   "metadata": {},
   "source": [
    "## Le modèle de  classification de graphes\n",
    "\n",
    "Nous allons maintenant impélementer notre GCN pour la prédiction des propriétés de graphes (classification de graphes)\n",
    "\n",
    "Nous allons réutiliser le modèle précèdent pour générer les plongements des nœuds et utiliser un Pooling global sur les nœuds pour prédire les propriétés du graphe en entier.\t"
   ]
  },
  {
   "cell_type": "code",
   "execution_count": 27,
   "id": "e0a22956",
   "metadata": {},
   "outputs": [],
   "source": [
    "from ogb.graphproppred.mol_encoder import AtomEncoder\n",
    "from torch_geometric.nn import global_add_pool, global_mean_pool\n",
    "\n",
    "### GCN to predict graph property\n",
    "class GCN_Graph(torch.nn.Module):\n",
    "    def __init__(self, hidden_dim, output_dim, num_layers, dropout):\n",
    "        super(GCN_Graph, self).__init__()\n",
    "\n",
    "        # Load encoders for Atoms in molecule graphs\n",
    "        self.node_encoder = AtomEncoder(hidden_dim)\n",
    "\n",
    "        # Node embedding model\n",
    "        # Note that the input_dim and output_dim are set to hidden_dim\n",
    "        self.gnn_node = GCN(hidden_dim, hidden_dim,\n",
    "            hidden_dim, num_layers, dropout, return_embeds=True)\n",
    "\n",
    "        \n",
    "\n",
    "        ############# Your code here ############\n",
    "        ## Note:\n",
    "        ## 1. Initialisez  self.pool par global mean pooling layer\n",
    "        ## Lien vers la documentation:\n",
    "        ## https://pytorch-geometric.readthedocs.io/en/latest/modules/nn.html#global-pooling-layers\n",
    "        ## (une ligne de code )\n",
    "        \n",
    "        self.pool = None\n",
    "        #########################################\n",
    "\n",
    "        # Output layer\n",
    "        self.linear = torch.nn.Linear(hidden_dim, output_dim)\n",
    "\n",
    "\n",
    "    def reset_parameters(self):\n",
    "      self.gnn_node.reset_parameters()\n",
    "      self.linear.reset_parameters()\n",
    "\n",
    "    def forward(self, batched_data):\n",
    "        # Input :  tensor batched_data,\n",
    "        # Output : tensor for each graph.\n",
    "        x, edge_index, batch = batched_data.x, batched_data.edge_index, batched_data.batch\n",
    "        embed = self.node_encoder(x)\n",
    "\n",
    "        out = None\n",
    "\n",
    "        ############# Votre code ici ###########################################\n",
    "        ## Note:\n",
    "        ## 1. Contruire les plongements de noeuds en utilisant le GCN précédent\n",
    "        ## 2. Utiliser global pooling layer pour constuire les features du graphe en entier\n",
    "        ## Lien vers la documentation:\n",
    "        ## https://pytorch-geometric.readthedocs.io/en/latest/modules/nn.html#global-pooling-layers\n",
    "        ## 3. Utilisez le couche linear layer  pour prédire la propriété du graphe\n",
    "        \n",
    "\n",
    "        ########################################################\n",
    "\n",
    "        return out"
   ]
  },
  {
   "cell_type": "code",
   "execution_count": 28,
   "id": "e1ee2643",
   "metadata": {},
   "outputs": [],
   "source": [
    "def train(model, device, data_loader, optimizer, loss_fn):\n",
    "\n",
    "    model.train()\n",
    "    loss = 0\n",
    "\n",
    "    for step, batch in enumerate(tqdm(data_loader, desc=\"Iteration\")):\n",
    "      batch = batch.to(device)\n",
    "\n",
    "      if batch.x.shape[0] == 1 or batch.batch[-1] == 0:\n",
    "          pass\n",
    "      else:\n",
    "        ## ignorer nan targets (unlabeled) lors du calcul du training loss.\n",
    "        is_labeled = batch.y == batch.y\n",
    "\n",
    "        ############# Votre code ici ############\n",
    "        ## Remarques:\n",
    "        ## 1. N'oubliez pas mettre les gradients à zero : zero_grad()\n",
    "        ## 2. Passez data au modèle\n",
    "        ## 3. Utilisez le masque 'is_labeled' pour filtrer outut et labels\n",
    "        ## 4. Changez le type du label à float\n",
    "        ## 5. Passez l'ouput et les étiquettes tranchés à loss_fn\n",
    "        \n",
    "\n",
    "        #########################################\n",
    "\n",
    "        loss.backward()\n",
    "        optimizer.step()\n",
    "\n",
    "    return loss.item()"
   ]
  },
  {
   "cell_type": "code",
   "execution_count": 31,
   "id": "33449eec",
   "metadata": {},
   "outputs": [],
   "source": [
    "# La fonction d'évaluation\n",
    "def eval(model, device, loader, evaluator):\n",
    "    model.eval()\n",
    "    y_true = []\n",
    "    y_pred = []\n",
    "\n",
    "    for step, batch in enumerate(tqdm(loader, desc=\"Iteration\")):\n",
    "        batch = batch.to(device)\n",
    "\n",
    "        if batch.x.shape[0] == 1:\n",
    "            pass\n",
    "        else:\n",
    "            with torch.no_grad():\n",
    "                pred = model(batch)\n",
    "\n",
    "            y_true.append(batch.y.view(pred.shape).detach().cpu())\n",
    "            y_pred.append(pred.detach().cpu())\n",
    "\n",
    "    y_true = torch.cat(y_true, dim = 0).numpy()\n",
    "    y_pred = torch.cat(y_pred, dim = 0).numpy()\n",
    "\n",
    "    input_dict = {\"y_true\": y_true, \"y_pred\": y_pred}\n",
    "\n",
    "    return evaluator.eval(input_dict)"
   ]
  },
  {
   "cell_type": "code",
   "execution_count": 29,
   "id": "1ee8abb6",
   "metadata": {},
   "outputs": [],
   "source": [
    "model = GCN_Graph(args['hidden_dim'],\n",
    "            dataset.num_tasks, args['num_layers'],\n",
    "            args['dropout']).to(device)\n",
    "evaluator = Evaluator(name='ogbg-molhiv')"
   ]
  },
  {
   "cell_type": "code",
   "execution_count": 33,
   "id": "7e40d332",
   "metadata": {},
   "outputs": [
    {
     "name": "stdout",
     "output_type": "stream",
     "text": [
      "Training...\n"
     ]
    },
    {
     "data": {
      "application/vnd.jupyter.widget-view+json": {
       "model_id": "60f121e2234344e885a0211170f6f1a6",
       "version_major": 2,
       "version_minor": 0
      },
      "text/plain": [
       "Iteration:   0%|          | 0/1029 [00:00<?, ?it/s]"
      ]
     },
     "metadata": {},
     "output_type": "display_data"
    },
    {
     "name": "stdout",
     "output_type": "stream",
     "text": [
      "Evaluating...\n"
     ]
    },
    {
     "data": {
      "application/vnd.jupyter.widget-view+json": {
       "model_id": "24e1bf07640f4efab5f659d5b6df4242",
       "version_major": 2,
       "version_minor": 0
      },
      "text/plain": [
       "Iteration:   0%|          | 0/1029 [00:00<?, ?it/s]"
      ]
     },
     "metadata": {},
     "output_type": "display_data"
    },
    {
     "data": {
      "application/vnd.jupyter.widget-view+json": {
       "model_id": "05cbe394163c411c8a9e98cb201fbee7",
       "version_major": 2,
       "version_minor": 0
      },
      "text/plain": [
       "Iteration:   0%|          | 0/129 [00:00<?, ?it/s]"
      ]
     },
     "metadata": {},
     "output_type": "display_data"
    },
    {
     "data": {
      "application/vnd.jupyter.widget-view+json": {
       "model_id": "b54fc08daaed47e68521a7c645bfe3fb",
       "version_major": 2,
       "version_minor": 0
      },
      "text/plain": [
       "Iteration:   0%|          | 0/129 [00:00<?, ?it/s]"
      ]
     },
     "metadata": {},
     "output_type": "display_data"
    },
    {
     "name": "stdout",
     "output_type": "stream",
     "text": [
      "Epoch: 01, Loss: 0.0105, Train: 73.65%, Valid: 76.40% Test: 73.39%\n",
      "Training...\n"
     ]
    },
    {
     "data": {
      "application/vnd.jupyter.widget-view+json": {
       "model_id": "862415b23a5a4656899219dd89ee4d28",
       "version_major": 2,
       "version_minor": 0
      },
      "text/plain": [
       "Iteration:   0%|          | 0/1029 [00:00<?, ?it/s]"
      ]
     },
     "metadata": {},
     "output_type": "display_data"
    },
    {
     "name": "stdout",
     "output_type": "stream",
     "text": [
      "Evaluating...\n"
     ]
    },
    {
     "data": {
      "application/vnd.jupyter.widget-view+json": {
       "model_id": "a6373b8f8dbf45198385563d824ea491",
       "version_major": 2,
       "version_minor": 0
      },
      "text/plain": [
       "Iteration:   0%|          | 0/1029 [00:00<?, ?it/s]"
      ]
     },
     "metadata": {},
     "output_type": "display_data"
    },
    {
     "data": {
      "application/vnd.jupyter.widget-view+json": {
       "model_id": "2564a8e6ce6b472cb93b79dbe0097b95",
       "version_major": 2,
       "version_minor": 0
      },
      "text/plain": [
       "Iteration:   0%|          | 0/129 [00:00<?, ?it/s]"
      ]
     },
     "metadata": {},
     "output_type": "display_data"
    },
    {
     "data": {
      "application/vnd.jupyter.widget-view+json": {
       "model_id": "61dbd19aa7eb4bba8de294e8c83a9260",
       "version_major": 2,
       "version_minor": 0
      },
      "text/plain": [
       "Iteration:   0%|          | 0/129 [00:00<?, ?it/s]"
      ]
     },
     "metadata": {},
     "output_type": "display_data"
    },
    {
     "name": "stdout",
     "output_type": "stream",
     "text": [
      "Epoch: 02, Loss: 0.0282, Train: 75.75%, Valid: 74.49% Test: 71.74%\n",
      "Training...\n"
     ]
    },
    {
     "data": {
      "application/vnd.jupyter.widget-view+json": {
       "model_id": "4c0c6394735546da8f2316fe64ceee97",
       "version_major": 2,
       "version_minor": 0
      },
      "text/plain": [
       "Iteration:   0%|          | 0/1029 [00:00<?, ?it/s]"
      ]
     },
     "metadata": {},
     "output_type": "display_data"
    },
    {
     "name": "stdout",
     "output_type": "stream",
     "text": [
      "Evaluating...\n"
     ]
    },
    {
     "data": {
      "application/vnd.jupyter.widget-view+json": {
       "model_id": "b8ab52d7a71c4415b2c5157eba8d4a7e",
       "version_major": 2,
       "version_minor": 0
      },
      "text/plain": [
       "Iteration:   0%|          | 0/1029 [00:00<?, ?it/s]"
      ]
     },
     "metadata": {},
     "output_type": "display_data"
    },
    {
     "data": {
      "application/vnd.jupyter.widget-view+json": {
       "model_id": "19e26ee374914acebe398e3a001898a1",
       "version_major": 2,
       "version_minor": 0
      },
      "text/plain": [
       "Iteration:   0%|          | 0/129 [00:00<?, ?it/s]"
      ]
     },
     "metadata": {},
     "output_type": "display_data"
    },
    {
     "data": {
      "application/vnd.jupyter.widget-view+json": {
       "model_id": "754bf481d8414d708013d6c424d02ae7",
       "version_major": 2,
       "version_minor": 0
      },
      "text/plain": [
       "Iteration:   0%|          | 0/129 [00:00<?, ?it/s]"
      ]
     },
     "metadata": {},
     "output_type": "display_data"
    },
    {
     "name": "stdout",
     "output_type": "stream",
     "text": [
      "Epoch: 03, Loss: 0.0657, Train: 72.69%, Valid: 71.48% Test: 67.87%\n",
      "Training...\n"
     ]
    },
    {
     "data": {
      "application/vnd.jupyter.widget-view+json": {
       "model_id": "9340fe94d59e4a6b8f062432f5dafba9",
       "version_major": 2,
       "version_minor": 0
      },
      "text/plain": [
       "Iteration:   0%|          | 0/1029 [00:00<?, ?it/s]"
      ]
     },
     "metadata": {},
     "output_type": "display_data"
    },
    {
     "name": "stdout",
     "output_type": "stream",
     "text": [
      "Evaluating...\n"
     ]
    },
    {
     "data": {
      "application/vnd.jupyter.widget-view+json": {
       "model_id": "87531e7430934ab997c0cc7009836502",
       "version_major": 2,
       "version_minor": 0
      },
      "text/plain": [
       "Iteration:   0%|          | 0/1029 [00:00<?, ?it/s]"
      ]
     },
     "metadata": {},
     "output_type": "display_data"
    },
    {
     "data": {
      "application/vnd.jupyter.widget-view+json": {
       "model_id": "dc4c17ed89ad474098916eb97cc64a43",
       "version_major": 2,
       "version_minor": 0
      },
      "text/plain": [
       "Iteration:   0%|          | 0/129 [00:00<?, ?it/s]"
      ]
     },
     "metadata": {},
     "output_type": "display_data"
    },
    {
     "data": {
      "application/vnd.jupyter.widget-view+json": {
       "model_id": "f9a0ce9c6f224efa8cd1aaf944227d95",
       "version_major": 2,
       "version_minor": 0
      },
      "text/plain": [
       "Iteration:   0%|          | 0/129 [00:00<?, ?it/s]"
      ]
     },
     "metadata": {},
     "output_type": "display_data"
    },
    {
     "name": "stdout",
     "output_type": "stream",
     "text": [
      "Epoch: 04, Loss: 0.5827, Train: 77.91%, Valid: 77.21% Test: 73.52%\n",
      "Training...\n"
     ]
    },
    {
     "data": {
      "application/vnd.jupyter.widget-view+json": {
       "model_id": "f9499882868b4ff8981a49e2546b87ce",
       "version_major": 2,
       "version_minor": 0
      },
      "text/plain": [
       "Iteration:   0%|          | 0/1029 [00:00<?, ?it/s]"
      ]
     },
     "metadata": {},
     "output_type": "display_data"
    },
    {
     "name": "stdout",
     "output_type": "stream",
     "text": [
      "Evaluating...\n"
     ]
    },
    {
     "data": {
      "application/vnd.jupyter.widget-view+json": {
       "model_id": "40a1aeddb436457e91736abf1e12fc00",
       "version_major": 2,
       "version_minor": 0
      },
      "text/plain": [
       "Iteration:   0%|          | 0/1029 [00:00<?, ?it/s]"
      ]
     },
     "metadata": {},
     "output_type": "display_data"
    },
    {
     "data": {
      "application/vnd.jupyter.widget-view+json": {
       "model_id": "e693dd17e0774a6b9b1c399d6d7c7885",
       "version_major": 2,
       "version_minor": 0
      },
      "text/plain": [
       "Iteration:   0%|          | 0/129 [00:00<?, ?it/s]"
      ]
     },
     "metadata": {},
     "output_type": "display_data"
    },
    {
     "data": {
      "application/vnd.jupyter.widget-view+json": {
       "model_id": "f6a5d5df4bc94b1ba2a37a829c21fa9a",
       "version_major": 2,
       "version_minor": 0
      },
      "text/plain": [
       "Iteration:   0%|          | 0/129 [00:00<?, ?it/s]"
      ]
     },
     "metadata": {},
     "output_type": "display_data"
    },
    {
     "name": "stdout",
     "output_type": "stream",
     "text": [
      "Epoch: 05, Loss: 0.0164, Train: 77.10%, Valid: 73.45% Test: 73.40%\n",
      "Training...\n"
     ]
    },
    {
     "data": {
      "application/vnd.jupyter.widget-view+json": {
       "model_id": "d7f9e195050e429e9c609626287423a1",
       "version_major": 2,
       "version_minor": 0
      },
      "text/plain": [
       "Iteration:   0%|          | 0/1029 [00:00<?, ?it/s]"
      ]
     },
     "metadata": {},
     "output_type": "display_data"
    },
    {
     "name": "stdout",
     "output_type": "stream",
     "text": [
      "Evaluating...\n"
     ]
    },
    {
     "data": {
      "application/vnd.jupyter.widget-view+json": {
       "model_id": "5ec3a4be08f1428eb6cbc8fa6488fc6c",
       "version_major": 2,
       "version_minor": 0
      },
      "text/plain": [
       "Iteration:   0%|          | 0/1029 [00:00<?, ?it/s]"
      ]
     },
     "metadata": {},
     "output_type": "display_data"
    },
    {
     "data": {
      "application/vnd.jupyter.widget-view+json": {
       "model_id": "c43a75fee055438e8f8f7053503c937e",
       "version_major": 2,
       "version_minor": 0
      },
      "text/plain": [
       "Iteration:   0%|          | 0/129 [00:00<?, ?it/s]"
      ]
     },
     "metadata": {},
     "output_type": "display_data"
    },
    {
     "data": {
      "application/vnd.jupyter.widget-view+json": {
       "model_id": "e50c34a465e843738a59b02abf3f5124",
       "version_major": 2,
       "version_minor": 0
      },
      "text/plain": [
       "Iteration:   0%|          | 0/129 [00:00<?, ?it/s]"
      ]
     },
     "metadata": {},
     "output_type": "display_data"
    },
    {
     "name": "stdout",
     "output_type": "stream",
     "text": [
      "Epoch: 06, Loss: 0.4941, Train: 78.17%, Valid: 74.96% Test: 73.73%\n",
      "Training...\n"
     ]
    },
    {
     "data": {
      "application/vnd.jupyter.widget-view+json": {
       "model_id": "04dee18c1b864d268439b39e4b165b21",
       "version_major": 2,
       "version_minor": 0
      },
      "text/plain": [
       "Iteration:   0%|          | 0/1029 [00:00<?, ?it/s]"
      ]
     },
     "metadata": {},
     "output_type": "display_data"
    },
    {
     "name": "stdout",
     "output_type": "stream",
     "text": [
      "Evaluating...\n"
     ]
    },
    {
     "data": {
      "application/vnd.jupyter.widget-view+json": {
       "model_id": "2aeea571e64e4455a83054a6fcba83a1",
       "version_major": 2,
       "version_minor": 0
      },
      "text/plain": [
       "Iteration:   0%|          | 0/1029 [00:00<?, ?it/s]"
      ]
     },
     "metadata": {},
     "output_type": "display_data"
    },
    {
     "data": {
      "application/vnd.jupyter.widget-view+json": {
       "model_id": "19bd611991f849e3a3931f62b54e1ac8",
       "version_major": 2,
       "version_minor": 0
      },
      "text/plain": [
       "Iteration:   0%|          | 0/129 [00:00<?, ?it/s]"
      ]
     },
     "metadata": {},
     "output_type": "display_data"
    },
    {
     "data": {
      "application/vnd.jupyter.widget-view+json": {
       "model_id": "a11bdc9bf9704a5e81938b055abed06e",
       "version_major": 2,
       "version_minor": 0
      },
      "text/plain": [
       "Iteration:   0%|          | 0/129 [00:00<?, ?it/s]"
      ]
     },
     "metadata": {},
     "output_type": "display_data"
    },
    {
     "name": "stdout",
     "output_type": "stream",
     "text": [
      "Epoch: 07, Loss: 0.0152, Train: 78.81%, Valid: 74.42% Test: 73.80%\n",
      "Training...\n"
     ]
    },
    {
     "data": {
      "application/vnd.jupyter.widget-view+json": {
       "model_id": "9f3b12730a594772bbdc049a4727b3ed",
       "version_major": 2,
       "version_minor": 0
      },
      "text/plain": [
       "Iteration:   0%|          | 0/1029 [00:00<?, ?it/s]"
      ]
     },
     "metadata": {},
     "output_type": "display_data"
    },
    {
     "name": "stdout",
     "output_type": "stream",
     "text": [
      "Evaluating...\n"
     ]
    },
    {
     "data": {
      "application/vnd.jupyter.widget-view+json": {
       "model_id": "95013575fea841fe98905c430f461b0e",
       "version_major": 2,
       "version_minor": 0
      },
      "text/plain": [
       "Iteration:   0%|          | 0/1029 [00:00<?, ?it/s]"
      ]
     },
     "metadata": {},
     "output_type": "display_data"
    },
    {
     "data": {
      "application/vnd.jupyter.widget-view+json": {
       "model_id": "8dbd48ecf5b0486d969b8e2f0ccf418c",
       "version_major": 2,
       "version_minor": 0
      },
      "text/plain": [
       "Iteration:   0%|          | 0/129 [00:00<?, ?it/s]"
      ]
     },
     "metadata": {},
     "output_type": "display_data"
    },
    {
     "data": {
      "application/vnd.jupyter.widget-view+json": {
       "model_id": "4d43ec2e0d894e549db20f59e07934ec",
       "version_major": 2,
       "version_minor": 0
      },
      "text/plain": [
       "Iteration:   0%|          | 0/129 [00:00<?, ?it/s]"
      ]
     },
     "metadata": {},
     "output_type": "display_data"
    },
    {
     "name": "stdout",
     "output_type": "stream",
     "text": [
      "Epoch: 08, Loss: 0.6326, Train: 77.75%, Valid: 76.28% Test: 69.19%\n",
      "Training...\n"
     ]
    },
    {
     "data": {
      "application/vnd.jupyter.widget-view+json": {
       "model_id": "d275146bc41b417d9ed315818e5efb9e",
       "version_major": 2,
       "version_minor": 0
      },
      "text/plain": [
       "Iteration:   0%|          | 0/1029 [00:00<?, ?it/s]"
      ]
     },
     "metadata": {},
     "output_type": "display_data"
    },
    {
     "name": "stdout",
     "output_type": "stream",
     "text": [
      "Evaluating...\n"
     ]
    },
    {
     "data": {
      "application/vnd.jupyter.widget-view+json": {
       "model_id": "2a35f2dd50e04e0b936e4b48444d9455",
       "version_major": 2,
       "version_minor": 0
      },
      "text/plain": [
       "Iteration:   0%|          | 0/1029 [00:00<?, ?it/s]"
      ]
     },
     "metadata": {},
     "output_type": "display_data"
    },
    {
     "data": {
      "application/vnd.jupyter.widget-view+json": {
       "model_id": "d950f2e4c30d496d97abf4351880b547",
       "version_major": 2,
       "version_minor": 0
      },
      "text/plain": [
       "Iteration:   0%|          | 0/129 [00:00<?, ?it/s]"
      ]
     },
     "metadata": {},
     "output_type": "display_data"
    },
    {
     "data": {
      "application/vnd.jupyter.widget-view+json": {
       "model_id": "34025635c77b4d5b9ceae08bb2740abd",
       "version_major": 2,
       "version_minor": 0
      },
      "text/plain": [
       "Iteration:   0%|          | 0/129 [00:00<?, ?it/s]"
      ]
     },
     "metadata": {},
     "output_type": "display_data"
    },
    {
     "name": "stdout",
     "output_type": "stream",
     "text": [
      "Epoch: 09, Loss: 0.0300, Train: 79.26%, Valid: 77.10% Test: 73.85%\n",
      "Training...\n"
     ]
    },
    {
     "data": {
      "application/vnd.jupyter.widget-view+json": {
       "model_id": "2bcf1d2bc5f1473a84b0c2558d592ed0",
       "version_major": 2,
       "version_minor": 0
      },
      "text/plain": [
       "Iteration:   0%|          | 0/1029 [00:00<?, ?it/s]"
      ]
     },
     "metadata": {},
     "output_type": "display_data"
    },
    {
     "name": "stdout",
     "output_type": "stream",
     "text": [
      "Evaluating...\n"
     ]
    },
    {
     "data": {
      "application/vnd.jupyter.widget-view+json": {
       "model_id": "3dedd619b25f4063a040e2cada99896d",
       "version_major": 2,
       "version_minor": 0
      },
      "text/plain": [
       "Iteration:   0%|          | 0/1029 [00:00<?, ?it/s]"
      ]
     },
     "metadata": {},
     "output_type": "display_data"
    },
    {
     "data": {
      "application/vnd.jupyter.widget-view+json": {
       "model_id": "910a72f8d95d40d3974332ab0024045c",
       "version_major": 2,
       "version_minor": 0
      },
      "text/plain": [
       "Iteration:   0%|          | 0/129 [00:00<?, ?it/s]"
      ]
     },
     "metadata": {},
     "output_type": "display_data"
    },
    {
     "data": {
      "application/vnd.jupyter.widget-view+json": {
       "model_id": "4f4482e70e6e432384402d1ff336bd48",
       "version_major": 2,
       "version_minor": 0
      },
      "text/plain": [
       "Iteration:   0%|          | 0/129 [00:00<?, ?it/s]"
      ]
     },
     "metadata": {},
     "output_type": "display_data"
    },
    {
     "name": "stdout",
     "output_type": "stream",
     "text": [
      "Epoch: 10, Loss: 0.0364, Train: 79.43%, Valid: 74.79% Test: 71.93%\n",
      "Training...\n"
     ]
    },
    {
     "data": {
      "application/vnd.jupyter.widget-view+json": {
       "model_id": "22c04d153d764b9ab39cb28ea24658cb",
       "version_major": 2,
       "version_minor": 0
      },
      "text/plain": [
       "Iteration:   0%|          | 0/1029 [00:00<?, ?it/s]"
      ]
     },
     "metadata": {},
     "output_type": "display_data"
    },
    {
     "name": "stdout",
     "output_type": "stream",
     "text": [
      "Evaluating...\n"
     ]
    },
    {
     "data": {
      "application/vnd.jupyter.widget-view+json": {
       "model_id": "904894eb7abb40eba911c9d5fbd83bdc",
       "version_major": 2,
       "version_minor": 0
      },
      "text/plain": [
       "Iteration:   0%|          | 0/1029 [00:00<?, ?it/s]"
      ]
     },
     "metadata": {},
     "output_type": "display_data"
    },
    {
     "data": {
      "application/vnd.jupyter.widget-view+json": {
       "model_id": "9fad8040fc1a4bcfb66a4fb7ed863d90",
       "version_major": 2,
       "version_minor": 0
      },
      "text/plain": [
       "Iteration:   0%|          | 0/129 [00:00<?, ?it/s]"
      ]
     },
     "metadata": {},
     "output_type": "display_data"
    },
    {
     "data": {
      "application/vnd.jupyter.widget-view+json": {
       "model_id": "09587c21e9b14bbcba59a476e7044c60",
       "version_major": 2,
       "version_minor": 0
      },
      "text/plain": [
       "Iteration:   0%|          | 0/129 [00:00<?, ?it/s]"
      ]
     },
     "metadata": {},
     "output_type": "display_data"
    },
    {
     "name": "stdout",
     "output_type": "stream",
     "text": [
      "Epoch: 11, Loss: 0.0146, Train: 79.05%, Valid: 74.13% Test: 73.23%\n",
      "Training...\n"
     ]
    },
    {
     "data": {
      "application/vnd.jupyter.widget-view+json": {
       "model_id": "f49467ab11f0414d8d5ab9d4e2068a97",
       "version_major": 2,
       "version_minor": 0
      },
      "text/plain": [
       "Iteration:   0%|          | 0/1029 [00:00<?, ?it/s]"
      ]
     },
     "metadata": {},
     "output_type": "display_data"
    },
    {
     "name": "stdout",
     "output_type": "stream",
     "text": [
      "Evaluating...\n"
     ]
    },
    {
     "data": {
      "application/vnd.jupyter.widget-view+json": {
       "model_id": "7dd1ae8415c44ba888f1b0befcdf5776",
       "version_major": 2,
       "version_minor": 0
      },
      "text/plain": [
       "Iteration:   0%|          | 0/1029 [00:00<?, ?it/s]"
      ]
     },
     "metadata": {},
     "output_type": "display_data"
    },
    {
     "data": {
      "application/vnd.jupyter.widget-view+json": {
       "model_id": "01642d1aa7c44c369e60bcae46f12830",
       "version_major": 2,
       "version_minor": 0
      },
      "text/plain": [
       "Iteration:   0%|          | 0/129 [00:00<?, ?it/s]"
      ]
     },
     "metadata": {},
     "output_type": "display_data"
    },
    {
     "data": {
      "application/vnd.jupyter.widget-view+json": {
       "model_id": "20da3db0b3944b48a1c8ecd197d64c4d",
       "version_major": 2,
       "version_minor": 0
      },
      "text/plain": [
       "Iteration:   0%|          | 0/129 [00:00<?, ?it/s]"
      ]
     },
     "metadata": {},
     "output_type": "display_data"
    },
    {
     "name": "stdout",
     "output_type": "stream",
     "text": [
      "Epoch: 12, Loss: 0.8998, Train: 79.98%, Valid: 75.09% Test: 74.90%\n",
      "Training...\n"
     ]
    },
    {
     "data": {
      "application/vnd.jupyter.widget-view+json": {
       "model_id": "a835b9aab5704e648c1f6682fa246097",
       "version_major": 2,
       "version_minor": 0
      },
      "text/plain": [
       "Iteration:   0%|          | 0/1029 [00:00<?, ?it/s]"
      ]
     },
     "metadata": {},
     "output_type": "display_data"
    },
    {
     "name": "stdout",
     "output_type": "stream",
     "text": [
      "Evaluating...\n"
     ]
    },
    {
     "data": {
      "application/vnd.jupyter.widget-view+json": {
       "model_id": "a8640656a0e64112b652a3fbaa8648fe",
       "version_major": 2,
       "version_minor": 0
      },
      "text/plain": [
       "Iteration:   0%|          | 0/1029 [00:00<?, ?it/s]"
      ]
     },
     "metadata": {},
     "output_type": "display_data"
    },
    {
     "data": {
      "application/vnd.jupyter.widget-view+json": {
       "model_id": "f7b8ec169985430d970e950b1c753267",
       "version_major": 2,
       "version_minor": 0
      },
      "text/plain": [
       "Iteration:   0%|          | 0/129 [00:00<?, ?it/s]"
      ]
     },
     "metadata": {},
     "output_type": "display_data"
    },
    {
     "data": {
      "application/vnd.jupyter.widget-view+json": {
       "model_id": "8299ac51edb740568b893c57abbee1f6",
       "version_major": 2,
       "version_minor": 0
      },
      "text/plain": [
       "Iteration:   0%|          | 0/129 [00:00<?, ?it/s]"
      ]
     },
     "metadata": {},
     "output_type": "display_data"
    },
    {
     "name": "stdout",
     "output_type": "stream",
     "text": [
      "Epoch: 13, Loss: 0.0377, Train: 80.02%, Valid: 76.88% Test: 73.38%\n",
      "Training...\n"
     ]
    },
    {
     "data": {
      "application/vnd.jupyter.widget-view+json": {
       "model_id": "f1272d52519c41cb874969ea2a93c2c5",
       "version_major": 2,
       "version_minor": 0
      },
      "text/plain": [
       "Iteration:   0%|          | 0/1029 [00:00<?, ?it/s]"
      ]
     },
     "metadata": {},
     "output_type": "display_data"
    },
    {
     "name": "stdout",
     "output_type": "stream",
     "text": [
      "Evaluating...\n"
     ]
    },
    {
     "data": {
      "application/vnd.jupyter.widget-view+json": {
       "model_id": "cc27d2f9fee2434babce9a6fa91b341d",
       "version_major": 2,
       "version_minor": 0
      },
      "text/plain": [
       "Iteration:   0%|          | 0/1029 [00:00<?, ?it/s]"
      ]
     },
     "metadata": {},
     "output_type": "display_data"
    },
    {
     "data": {
      "application/vnd.jupyter.widget-view+json": {
       "model_id": "4168023bed0e44e89b6ec1356975f92a",
       "version_major": 2,
       "version_minor": 0
      },
      "text/plain": [
       "Iteration:   0%|          | 0/129 [00:00<?, ?it/s]"
      ]
     },
     "metadata": {},
     "output_type": "display_data"
    },
    {
     "data": {
      "application/vnd.jupyter.widget-view+json": {
       "model_id": "5ef1e08567384b2c9c0a4cee9e8804a8",
       "version_major": 2,
       "version_minor": 0
      },
      "text/plain": [
       "Iteration:   0%|          | 0/129 [00:00<?, ?it/s]"
      ]
     },
     "metadata": {},
     "output_type": "display_data"
    },
    {
     "name": "stdout",
     "output_type": "stream",
     "text": [
      "Epoch: 14, Loss: 0.6727, Train: 80.48%, Valid: 76.72% Test: 73.54%\n",
      "Training...\n"
     ]
    },
    {
     "data": {
      "application/vnd.jupyter.widget-view+json": {
       "model_id": "adfe81d151d74727b74d323a7d4f10be",
       "version_major": 2,
       "version_minor": 0
      },
      "text/plain": [
       "Iteration:   0%|          | 0/1029 [00:00<?, ?it/s]"
      ]
     },
     "metadata": {},
     "output_type": "display_data"
    },
    {
     "name": "stdout",
     "output_type": "stream",
     "text": [
      "Evaluating...\n"
     ]
    },
    {
     "data": {
      "application/vnd.jupyter.widget-view+json": {
       "model_id": "a605152dfbcd49b1a04f076c8adbd704",
       "version_major": 2,
       "version_minor": 0
      },
      "text/plain": [
       "Iteration:   0%|          | 0/1029 [00:00<?, ?it/s]"
      ]
     },
     "metadata": {},
     "output_type": "display_data"
    },
    {
     "data": {
      "application/vnd.jupyter.widget-view+json": {
       "model_id": "7936b720fde4444ebd8addee00422830",
       "version_major": 2,
       "version_minor": 0
      },
      "text/plain": [
       "Iteration:   0%|          | 0/129 [00:00<?, ?it/s]"
      ]
     },
     "metadata": {},
     "output_type": "display_data"
    },
    {
     "data": {
      "application/vnd.jupyter.widget-view+json": {
       "model_id": "e6506ce1f5b44bd391b67fd67b5ea209",
       "version_major": 2,
       "version_minor": 0
      },
      "text/plain": [
       "Iteration:   0%|          | 0/129 [00:00<?, ?it/s]"
      ]
     },
     "metadata": {},
     "output_type": "display_data"
    },
    {
     "name": "stdout",
     "output_type": "stream",
     "text": [
      "Epoch: 15, Loss: 0.0500, Train: 80.53%, Valid: 75.41% Test: 75.36%\n",
      "Training...\n"
     ]
    },
    {
     "data": {
      "application/vnd.jupyter.widget-view+json": {
       "model_id": "29b49a890bfd497dbe893f9cf2ac4e15",
       "version_major": 2,
       "version_minor": 0
      },
      "text/plain": [
       "Iteration:   0%|          | 0/1029 [00:00<?, ?it/s]"
      ]
     },
     "metadata": {},
     "output_type": "display_data"
    },
    {
     "name": "stdout",
     "output_type": "stream",
     "text": [
      "Evaluating...\n"
     ]
    },
    {
     "data": {
      "application/vnd.jupyter.widget-view+json": {
       "model_id": "44eb1330af4f4c039cd99020d86d70e7",
       "version_major": 2,
       "version_minor": 0
      },
      "text/plain": [
       "Iteration:   0%|          | 0/1029 [00:00<?, ?it/s]"
      ]
     },
     "metadata": {},
     "output_type": "display_data"
    },
    {
     "data": {
      "application/vnd.jupyter.widget-view+json": {
       "model_id": "4c6ea39b275b4c4ba38bf5dc62d13827",
       "version_major": 2,
       "version_minor": 0
      },
      "text/plain": [
       "Iteration:   0%|          | 0/129 [00:00<?, ?it/s]"
      ]
     },
     "metadata": {},
     "output_type": "display_data"
    },
    {
     "data": {
      "application/vnd.jupyter.widget-view+json": {
       "model_id": "4fa9659815c74dfca21c57aea0fb238c",
       "version_major": 2,
       "version_minor": 0
      },
      "text/plain": [
       "Iteration:   0%|          | 0/129 [00:00<?, ?it/s]"
      ]
     },
     "metadata": {},
     "output_type": "display_data"
    },
    {
     "name": "stdout",
     "output_type": "stream",
     "text": [
      "Epoch: 16, Loss: 0.9198, Train: 81.81%, Valid: 75.91% Test: 74.85%\n",
      "Training...\n"
     ]
    },
    {
     "data": {
      "application/vnd.jupyter.widget-view+json": {
       "model_id": "326da8b806a14e0b998f58e9b27e1f40",
       "version_major": 2,
       "version_minor": 0
      },
      "text/plain": [
       "Iteration:   0%|          | 0/1029 [00:00<?, ?it/s]"
      ]
     },
     "metadata": {},
     "output_type": "display_data"
    },
    {
     "name": "stdout",
     "output_type": "stream",
     "text": [
      "Evaluating...\n"
     ]
    },
    {
     "data": {
      "application/vnd.jupyter.widget-view+json": {
       "model_id": "0cb51cbb4f1549caa4ca635f1d47d0e3",
       "version_major": 2,
       "version_minor": 0
      },
      "text/plain": [
       "Iteration:   0%|          | 0/1029 [00:00<?, ?it/s]"
      ]
     },
     "metadata": {},
     "output_type": "display_data"
    },
    {
     "data": {
      "application/vnd.jupyter.widget-view+json": {
       "model_id": "18064beeff7c484db94dcab2bf91313e",
       "version_major": 2,
       "version_minor": 0
      },
      "text/plain": [
       "Iteration:   0%|          | 0/129 [00:00<?, ?it/s]"
      ]
     },
     "metadata": {},
     "output_type": "display_data"
    },
    {
     "data": {
      "application/vnd.jupyter.widget-view+json": {
       "model_id": "54ad4f1da5aa48eb9ca0650b28bcd218",
       "version_major": 2,
       "version_minor": 0
      },
      "text/plain": [
       "Iteration:   0%|          | 0/129 [00:00<?, ?it/s]"
      ]
     },
     "metadata": {},
     "output_type": "display_data"
    },
    {
     "name": "stdout",
     "output_type": "stream",
     "text": [
      "Epoch: 17, Loss: 0.0585, Train: 80.80%, Valid: 74.94% Test: 74.67%\n",
      "Training...\n"
     ]
    },
    {
     "data": {
      "application/vnd.jupyter.widget-view+json": {
       "model_id": "41a30e20eb1343b0aaf259570297cee1",
       "version_major": 2,
       "version_minor": 0
      },
      "text/plain": [
       "Iteration:   0%|          | 0/1029 [00:00<?, ?it/s]"
      ]
     },
     "metadata": {},
     "output_type": "display_data"
    },
    {
     "name": "stdout",
     "output_type": "stream",
     "text": [
      "Evaluating...\n"
     ]
    },
    {
     "data": {
      "application/vnd.jupyter.widget-view+json": {
       "model_id": "7b981dcc21cb4b449253c63c657bafa1",
       "version_major": 2,
       "version_minor": 0
      },
      "text/plain": [
       "Iteration:   0%|          | 0/1029 [00:00<?, ?it/s]"
      ]
     },
     "metadata": {},
     "output_type": "display_data"
    },
    {
     "data": {
      "application/vnd.jupyter.widget-view+json": {
       "model_id": "a26862b671264de5b60d1a28af0d6cd5",
       "version_major": 2,
       "version_minor": 0
      },
      "text/plain": [
       "Iteration:   0%|          | 0/129 [00:00<?, ?it/s]"
      ]
     },
     "metadata": {},
     "output_type": "display_data"
    },
    {
     "data": {
      "application/vnd.jupyter.widget-view+json": {
       "model_id": "f1211febf0f348919620682af7860a50",
       "version_major": 2,
       "version_minor": 0
      },
      "text/plain": [
       "Iteration:   0%|          | 0/129 [00:00<?, ?it/s]"
      ]
     },
     "metadata": {},
     "output_type": "display_data"
    },
    {
     "name": "stdout",
     "output_type": "stream",
     "text": [
      "Epoch: 18, Loss: 0.0209, Train: 81.91%, Valid: 78.55% Test: 73.48%\n",
      "Training...\n"
     ]
    },
    {
     "data": {
      "application/vnd.jupyter.widget-view+json": {
       "model_id": "c1b138be7ca045b9862cfc7668d55cf8",
       "version_major": 2,
       "version_minor": 0
      },
      "text/plain": [
       "Iteration:   0%|          | 0/1029 [00:00<?, ?it/s]"
      ]
     },
     "metadata": {},
     "output_type": "display_data"
    },
    {
     "name": "stdout",
     "output_type": "stream",
     "text": [
      "Evaluating...\n"
     ]
    },
    {
     "data": {
      "application/vnd.jupyter.widget-view+json": {
       "model_id": "eda9c88cf5f84495b3cad55337c51fd4",
       "version_major": 2,
       "version_minor": 0
      },
      "text/plain": [
       "Iteration:   0%|          | 0/1029 [00:00<?, ?it/s]"
      ]
     },
     "metadata": {},
     "output_type": "display_data"
    },
    {
     "data": {
      "application/vnd.jupyter.widget-view+json": {
       "model_id": "891736fc2dda4e54b6b4436024d7764b",
       "version_major": 2,
       "version_minor": 0
      },
      "text/plain": [
       "Iteration:   0%|          | 0/129 [00:00<?, ?it/s]"
      ]
     },
     "metadata": {},
     "output_type": "display_data"
    },
    {
     "data": {
      "application/vnd.jupyter.widget-view+json": {
       "model_id": "4713eccb24cb49439f28603e6fc0ac8a",
       "version_major": 2,
       "version_minor": 0
      },
      "text/plain": [
       "Iteration:   0%|          | 0/129 [00:00<?, ?it/s]"
      ]
     },
     "metadata": {},
     "output_type": "display_data"
    },
    {
     "name": "stdout",
     "output_type": "stream",
     "text": [
      "Epoch: 19, Loss: 0.0217, Train: 82.09%, Valid: 77.03% Test: 74.32%\n",
      "Training...\n"
     ]
    },
    {
     "data": {
      "application/vnd.jupyter.widget-view+json": {
       "model_id": "92999c76cb5a4e8e859bc94672c5703c",
       "version_major": 2,
       "version_minor": 0
      },
      "text/plain": [
       "Iteration:   0%|          | 0/1029 [00:00<?, ?it/s]"
      ]
     },
     "metadata": {},
     "output_type": "display_data"
    },
    {
     "name": "stdout",
     "output_type": "stream",
     "text": [
      "Evaluating...\n"
     ]
    },
    {
     "data": {
      "application/vnd.jupyter.widget-view+json": {
       "model_id": "cd0736ca39264a5e9b039fd2b3cf375d",
       "version_major": 2,
       "version_minor": 0
      },
      "text/plain": [
       "Iteration:   0%|          | 0/1029 [00:00<?, ?it/s]"
      ]
     },
     "metadata": {},
     "output_type": "display_data"
    },
    {
     "data": {
      "application/vnd.jupyter.widget-view+json": {
       "model_id": "9f63d2319f9c42229b9c64f5d6d8f22d",
       "version_major": 2,
       "version_minor": 0
      },
      "text/plain": [
       "Iteration:   0%|          | 0/129 [00:00<?, ?it/s]"
      ]
     },
     "metadata": {},
     "output_type": "display_data"
    },
    {
     "data": {
      "application/vnd.jupyter.widget-view+json": {
       "model_id": "a904b963b06648efbca59c1f0c7c054f",
       "version_major": 2,
       "version_minor": 0
      },
      "text/plain": [
       "Iteration:   0%|          | 0/129 [00:00<?, ?it/s]"
      ]
     },
     "metadata": {},
     "output_type": "display_data"
    },
    {
     "name": "stdout",
     "output_type": "stream",
     "text": [
      "Epoch: 20, Loss: 0.0285, Train: 81.70%, Valid: 79.17% Test: 72.42%\n",
      "Training...\n"
     ]
    },
    {
     "data": {
      "application/vnd.jupyter.widget-view+json": {
       "model_id": "8716b6e391fd41d799d5fd837ddfb447",
       "version_major": 2,
       "version_minor": 0
      },
      "text/plain": [
       "Iteration:   0%|          | 0/1029 [00:00<?, ?it/s]"
      ]
     },
     "metadata": {},
     "output_type": "display_data"
    },
    {
     "name": "stdout",
     "output_type": "stream",
     "text": [
      "Evaluating...\n"
     ]
    },
    {
     "data": {
      "application/vnd.jupyter.widget-view+json": {
       "model_id": "9d494317d1374a34b4ea0826fa0f099c",
       "version_major": 2,
       "version_minor": 0
      },
      "text/plain": [
       "Iteration:   0%|          | 0/1029 [00:00<?, ?it/s]"
      ]
     },
     "metadata": {},
     "output_type": "display_data"
    },
    {
     "data": {
      "application/vnd.jupyter.widget-view+json": {
       "model_id": "18c861320c2b48749bce46a7692d98bd",
       "version_major": 2,
       "version_minor": 0
      },
      "text/plain": [
       "Iteration:   0%|          | 0/129 [00:00<?, ?it/s]"
      ]
     },
     "metadata": {},
     "output_type": "display_data"
    },
    {
     "data": {
      "application/vnd.jupyter.widget-view+json": {
       "model_id": "04016a1b78cb4b89848bc668e67f40f5",
       "version_major": 2,
       "version_minor": 0
      },
      "text/plain": [
       "Iteration:   0%|          | 0/129 [00:00<?, ?it/s]"
      ]
     },
     "metadata": {},
     "output_type": "display_data"
    },
    {
     "name": "stdout",
     "output_type": "stream",
     "text": [
      "Epoch: 21, Loss: 0.0206, Train: 82.16%, Valid: 79.97% Test: 72.76%\n",
      "Training...\n"
     ]
    },
    {
     "data": {
      "application/vnd.jupyter.widget-view+json": {
       "model_id": "23ba2d29a2e84e09a51363d43e06a9a2",
       "version_major": 2,
       "version_minor": 0
      },
      "text/plain": [
       "Iteration:   0%|          | 0/1029 [00:00<?, ?it/s]"
      ]
     },
     "metadata": {},
     "output_type": "display_data"
    },
    {
     "name": "stdout",
     "output_type": "stream",
     "text": [
      "Evaluating...\n"
     ]
    },
    {
     "data": {
      "application/vnd.jupyter.widget-view+json": {
       "model_id": "7653eff76dea47aea56c21858ce478b5",
       "version_major": 2,
       "version_minor": 0
      },
      "text/plain": [
       "Iteration:   0%|          | 0/1029 [00:00<?, ?it/s]"
      ]
     },
     "metadata": {},
     "output_type": "display_data"
    },
    {
     "data": {
      "application/vnd.jupyter.widget-view+json": {
       "model_id": "cbe85630d94e4d09afba903f0cf207ab",
       "version_major": 2,
       "version_minor": 0
      },
      "text/plain": [
       "Iteration:   0%|          | 0/129 [00:00<?, ?it/s]"
      ]
     },
     "metadata": {},
     "output_type": "display_data"
    },
    {
     "data": {
      "application/vnd.jupyter.widget-view+json": {
       "model_id": "46b38ec64f4b4c8cb1facbb48b31227b",
       "version_major": 2,
       "version_minor": 0
      },
      "text/plain": [
       "Iteration:   0%|          | 0/129 [00:00<?, ?it/s]"
      ]
     },
     "metadata": {},
     "output_type": "display_data"
    },
    {
     "name": "stdout",
     "output_type": "stream",
     "text": [
      "Epoch: 22, Loss: 0.0211, Train: 82.45%, Valid: 75.96% Test: 74.50%\n",
      "Training...\n"
     ]
    },
    {
     "data": {
      "application/vnd.jupyter.widget-view+json": {
       "model_id": "703222a0198b42c3be71138ffeaabe47",
       "version_major": 2,
       "version_minor": 0
      },
      "text/plain": [
       "Iteration:   0%|          | 0/1029 [00:00<?, ?it/s]"
      ]
     },
     "metadata": {},
     "output_type": "display_data"
    },
    {
     "name": "stdout",
     "output_type": "stream",
     "text": [
      "Evaluating...\n"
     ]
    },
    {
     "data": {
      "application/vnd.jupyter.widget-view+json": {
       "model_id": "576cc25446c8456ea99d0a0e8da0e90e",
       "version_major": 2,
       "version_minor": 0
      },
      "text/plain": [
       "Iteration:   0%|          | 0/1029 [00:00<?, ?it/s]"
      ]
     },
     "metadata": {},
     "output_type": "display_data"
    },
    {
     "data": {
      "application/vnd.jupyter.widget-view+json": {
       "model_id": "9760ab6b3f23495399aa7a471aa7449a",
       "version_major": 2,
       "version_minor": 0
      },
      "text/plain": [
       "Iteration:   0%|          | 0/129 [00:00<?, ?it/s]"
      ]
     },
     "metadata": {},
     "output_type": "display_data"
    },
    {
     "data": {
      "application/vnd.jupyter.widget-view+json": {
       "model_id": "4fd3378de6c14ed392622bf54941a9b2",
       "version_major": 2,
       "version_minor": 0
      },
      "text/plain": [
       "Iteration:   0%|          | 0/129 [00:00<?, ?it/s]"
      ]
     },
     "metadata": {},
     "output_type": "display_data"
    },
    {
     "name": "stdout",
     "output_type": "stream",
     "text": [
      "Epoch: 23, Loss: 0.0288, Train: 82.99%, Valid: 79.10% Test: 74.26%\n",
      "Training...\n"
     ]
    },
    {
     "data": {
      "application/vnd.jupyter.widget-view+json": {
       "model_id": "138ddb35043d41e9884e22c84d653f04",
       "version_major": 2,
       "version_minor": 0
      },
      "text/plain": [
       "Iteration:   0%|          | 0/1029 [00:00<?, ?it/s]"
      ]
     },
     "metadata": {},
     "output_type": "display_data"
    },
    {
     "name": "stdout",
     "output_type": "stream",
     "text": [
      "Evaluating...\n"
     ]
    },
    {
     "data": {
      "application/vnd.jupyter.widget-view+json": {
       "model_id": "44df144e2be64138ac7db2abf6db1c7d",
       "version_major": 2,
       "version_minor": 0
      },
      "text/plain": [
       "Iteration:   0%|          | 0/1029 [00:00<?, ?it/s]"
      ]
     },
     "metadata": {},
     "output_type": "display_data"
    },
    {
     "data": {
      "application/vnd.jupyter.widget-view+json": {
       "model_id": "16d81c5d805644a68d4040302a0e44e7",
       "version_major": 2,
       "version_minor": 0
      },
      "text/plain": [
       "Iteration:   0%|          | 0/129 [00:00<?, ?it/s]"
      ]
     },
     "metadata": {},
     "output_type": "display_data"
    },
    {
     "data": {
      "application/vnd.jupyter.widget-view+json": {
       "model_id": "bb52383041414940aaf1c0fd2a306ed8",
       "version_major": 2,
       "version_minor": 0
      },
      "text/plain": [
       "Iteration:   0%|          | 0/129 [00:00<?, ?it/s]"
      ]
     },
     "metadata": {},
     "output_type": "display_data"
    },
    {
     "name": "stdout",
     "output_type": "stream",
     "text": [
      "Epoch: 24, Loss: 0.0135, Train: 82.83%, Valid: 81.23% Test: 75.65%\n",
      "Training...\n"
     ]
    },
    {
     "data": {
      "application/vnd.jupyter.widget-view+json": {
       "model_id": "17e8536bc68f4f9baf518e709c7e8e93",
       "version_major": 2,
       "version_minor": 0
      },
      "text/plain": [
       "Iteration:   0%|          | 0/1029 [00:00<?, ?it/s]"
      ]
     },
     "metadata": {},
     "output_type": "display_data"
    },
    {
     "name": "stdout",
     "output_type": "stream",
     "text": [
      "Evaluating...\n"
     ]
    },
    {
     "data": {
      "application/vnd.jupyter.widget-view+json": {
       "model_id": "965cbfe05bc248c6b0bff30c26b991a2",
       "version_major": 2,
       "version_minor": 0
      },
      "text/plain": [
       "Iteration:   0%|          | 0/1029 [00:00<?, ?it/s]"
      ]
     },
     "metadata": {},
     "output_type": "display_data"
    },
    {
     "data": {
      "application/vnd.jupyter.widget-view+json": {
       "model_id": "5dd53055cec04d7ebbc2eff6b7838106",
       "version_major": 2,
       "version_minor": 0
      },
      "text/plain": [
       "Iteration:   0%|          | 0/129 [00:00<?, ?it/s]"
      ]
     },
     "metadata": {},
     "output_type": "display_data"
    },
    {
     "data": {
      "application/vnd.jupyter.widget-view+json": {
       "model_id": "7974e38dabcb4912802db3c8c5357e54",
       "version_major": 2,
       "version_minor": 0
      },
      "text/plain": [
       "Iteration:   0%|          | 0/129 [00:00<?, ?it/s]"
      ]
     },
     "metadata": {},
     "output_type": "display_data"
    },
    {
     "name": "stdout",
     "output_type": "stream",
     "text": [
      "Epoch: 25, Loss: 0.0177, Train: 83.22%, Valid: 77.59% Test: 75.14%\n",
      "Training...\n"
     ]
    },
    {
     "data": {
      "application/vnd.jupyter.widget-view+json": {
       "model_id": "bb6ae6f5e101422196b8ba533fe91a8a",
       "version_major": 2,
       "version_minor": 0
      },
      "text/plain": [
       "Iteration:   0%|          | 0/1029 [00:00<?, ?it/s]"
      ]
     },
     "metadata": {},
     "output_type": "display_data"
    },
    {
     "name": "stdout",
     "output_type": "stream",
     "text": [
      "Evaluating...\n"
     ]
    },
    {
     "data": {
      "application/vnd.jupyter.widget-view+json": {
       "model_id": "f1d4874254154d7c9964e672c0d82950",
       "version_major": 2,
       "version_minor": 0
      },
      "text/plain": [
       "Iteration:   0%|          | 0/1029 [00:00<?, ?it/s]"
      ]
     },
     "metadata": {},
     "output_type": "display_data"
    },
    {
     "data": {
      "application/vnd.jupyter.widget-view+json": {
       "model_id": "e3b825f31d19496ab143382be536fff2",
       "version_major": 2,
       "version_minor": 0
      },
      "text/plain": [
       "Iteration:   0%|          | 0/129 [00:00<?, ?it/s]"
      ]
     },
     "metadata": {},
     "output_type": "display_data"
    },
    {
     "data": {
      "application/vnd.jupyter.widget-view+json": {
       "model_id": "7e890228c7354a7e993214e7055abc60",
       "version_major": 2,
       "version_minor": 0
      },
      "text/plain": [
       "Iteration:   0%|          | 0/129 [00:00<?, ?it/s]"
      ]
     },
     "metadata": {},
     "output_type": "display_data"
    },
    {
     "name": "stdout",
     "output_type": "stream",
     "text": [
      "Epoch: 26, Loss: 0.0321, Train: 83.36%, Valid: 78.97% Test: 76.09%\n",
      "Training...\n"
     ]
    },
    {
     "data": {
      "application/vnd.jupyter.widget-view+json": {
       "model_id": "0ad4267e5bc64f5c997a90b5eba2daca",
       "version_major": 2,
       "version_minor": 0
      },
      "text/plain": [
       "Iteration:   0%|          | 0/1029 [00:00<?, ?it/s]"
      ]
     },
     "metadata": {},
     "output_type": "display_data"
    },
    {
     "name": "stdout",
     "output_type": "stream",
     "text": [
      "Evaluating...\n"
     ]
    },
    {
     "data": {
      "application/vnd.jupyter.widget-view+json": {
       "model_id": "5df76e59f60b48c7a2ca7110543a4463",
       "version_major": 2,
       "version_minor": 0
      },
      "text/plain": [
       "Iteration:   0%|          | 0/1029 [00:00<?, ?it/s]"
      ]
     },
     "metadata": {},
     "output_type": "display_data"
    },
    {
     "data": {
      "application/vnd.jupyter.widget-view+json": {
       "model_id": "0630b49938cd4348b6f74c0f3276ea2a",
       "version_major": 2,
       "version_minor": 0
      },
      "text/plain": [
       "Iteration:   0%|          | 0/129 [00:00<?, ?it/s]"
      ]
     },
     "metadata": {},
     "output_type": "display_data"
    },
    {
     "data": {
      "application/vnd.jupyter.widget-view+json": {
       "model_id": "b800346d13bd42219c269d19c5f90255",
       "version_major": 2,
       "version_minor": 0
      },
      "text/plain": [
       "Iteration:   0%|          | 0/129 [00:00<?, ?it/s]"
      ]
     },
     "metadata": {},
     "output_type": "display_data"
    },
    {
     "name": "stdout",
     "output_type": "stream",
     "text": [
      "Epoch: 27, Loss: 0.7269, Train: 84.01%, Valid: 77.97% Test: 75.76%\n",
      "Training...\n"
     ]
    },
    {
     "data": {
      "application/vnd.jupyter.widget-view+json": {
       "model_id": "b1f15ed883394fb49d70a63fadc43314",
       "version_major": 2,
       "version_minor": 0
      },
      "text/plain": [
       "Iteration:   0%|          | 0/1029 [00:00<?, ?it/s]"
      ]
     },
     "metadata": {},
     "output_type": "display_data"
    },
    {
     "name": "stdout",
     "output_type": "stream",
     "text": [
      "Evaluating...\n"
     ]
    },
    {
     "data": {
      "application/vnd.jupyter.widget-view+json": {
       "model_id": "2a8e45dc4adf4123ad00a5f2674ae140",
       "version_major": 2,
       "version_minor": 0
      },
      "text/plain": [
       "Iteration:   0%|          | 0/1029 [00:00<?, ?it/s]"
      ]
     },
     "metadata": {},
     "output_type": "display_data"
    },
    {
     "data": {
      "application/vnd.jupyter.widget-view+json": {
       "model_id": "ae2342c1a3b9477fbf65c84b4f28d299",
       "version_major": 2,
       "version_minor": 0
      },
      "text/plain": [
       "Iteration:   0%|          | 0/129 [00:00<?, ?it/s]"
      ]
     },
     "metadata": {},
     "output_type": "display_data"
    },
    {
     "data": {
      "application/vnd.jupyter.widget-view+json": {
       "model_id": "3bc89eee6f56421c839f737f515ccb15",
       "version_major": 2,
       "version_minor": 0
      },
      "text/plain": [
       "Iteration:   0%|          | 0/129 [00:00<?, ?it/s]"
      ]
     },
     "metadata": {},
     "output_type": "display_data"
    },
    {
     "name": "stdout",
     "output_type": "stream",
     "text": [
      "Epoch: 28, Loss: 0.0231, Train: 83.91%, Valid: 78.42% Test: 75.81%\n",
      "Training...\n"
     ]
    },
    {
     "data": {
      "application/vnd.jupyter.widget-view+json": {
       "model_id": "46cfb6538c2745b4974065b5ad08fdad",
       "version_major": 2,
       "version_minor": 0
      },
      "text/plain": [
       "Iteration:   0%|          | 0/1029 [00:00<?, ?it/s]"
      ]
     },
     "metadata": {},
     "output_type": "display_data"
    },
    {
     "name": "stdout",
     "output_type": "stream",
     "text": [
      "Evaluating...\n"
     ]
    },
    {
     "data": {
      "application/vnd.jupyter.widget-view+json": {
       "model_id": "af49be77a94148acb8460a5c7ba2dbc2",
       "version_major": 2,
       "version_minor": 0
      },
      "text/plain": [
       "Iteration:   0%|          | 0/1029 [00:00<?, ?it/s]"
      ]
     },
     "metadata": {},
     "output_type": "display_data"
    },
    {
     "data": {
      "application/vnd.jupyter.widget-view+json": {
       "model_id": "1a0e77c398fa44539d8153fa683c539e",
       "version_major": 2,
       "version_minor": 0
      },
      "text/plain": [
       "Iteration:   0%|          | 0/129 [00:00<?, ?it/s]"
      ]
     },
     "metadata": {},
     "output_type": "display_data"
    },
    {
     "data": {
      "application/vnd.jupyter.widget-view+json": {
       "model_id": "fe14f0bb925b46cdb48e8c28d1f9d710",
       "version_major": 2,
       "version_minor": 0
      },
      "text/plain": [
       "Iteration:   0%|          | 0/129 [00:00<?, ?it/s]"
      ]
     },
     "metadata": {},
     "output_type": "display_data"
    },
    {
     "name": "stdout",
     "output_type": "stream",
     "text": [
      "Epoch: 29, Loss: 0.1230, Train: 82.49%, Valid: 76.24% Test: 74.15%\n",
      "Training...\n"
     ]
    },
    {
     "data": {
      "application/vnd.jupyter.widget-view+json": {
       "model_id": "4f1a03a395434ba9a79d854f13105d3d",
       "version_major": 2,
       "version_minor": 0
      },
      "text/plain": [
       "Iteration:   0%|          | 0/1029 [00:00<?, ?it/s]"
      ]
     },
     "metadata": {},
     "output_type": "display_data"
    },
    {
     "name": "stdout",
     "output_type": "stream",
     "text": [
      "Evaluating...\n"
     ]
    },
    {
     "data": {
      "application/vnd.jupyter.widget-view+json": {
       "model_id": "bd46ec06a4764619a5353919356a3b80",
       "version_major": 2,
       "version_minor": 0
      },
      "text/plain": [
       "Iteration:   0%|          | 0/1029 [00:00<?, ?it/s]"
      ]
     },
     "metadata": {},
     "output_type": "display_data"
    },
    {
     "data": {
      "application/vnd.jupyter.widget-view+json": {
       "model_id": "0afd0ed438cb47e5b1c59f6fba70fc7d",
       "version_major": 2,
       "version_minor": 0
      },
      "text/plain": [
       "Iteration:   0%|          | 0/129 [00:00<?, ?it/s]"
      ]
     },
     "metadata": {},
     "output_type": "display_data"
    },
    {
     "data": {
      "application/vnd.jupyter.widget-view+json": {
       "model_id": "e69fbeb74dd9431f9370545b512a0239",
       "version_major": 2,
       "version_minor": 0
      },
      "text/plain": [
       "Iteration:   0%|          | 0/129 [00:00<?, ?it/s]"
      ]
     },
     "metadata": {},
     "output_type": "display_data"
    },
    {
     "name": "stdout",
     "output_type": "stream",
     "text": [
      "Epoch: 30, Loss: 0.3490, Train: 83.82%, Valid: 79.38% Test: 75.76%\n"
     ]
    }
   ],
   "source": [
    "import copy\n",
    "\n",
    "model.reset_parameters()\n",
    "\n",
    "optimizer = torch.optim.Adam(model.parameters(), lr=args['lr'])\n",
    "loss_fn = torch.nn.BCEWithLogitsLoss()\n",
    "\n",
    "best_model = None\n",
    "best_valid_acc = 0\n",
    "\n",
    "for epoch in range(1, 1 + args[\"epochs\"]):\n",
    "  print('Training...')\n",
    "  loss = train(model, device, train_loader, optimizer, loss_fn)\n",
    "\n",
    "  print('Evaluating...')\n",
    "  train_result = eval(model, device, train_loader, evaluator)\n",
    "  val_result = eval(model, device, valid_loader, evaluator)\n",
    "  test_result = eval(model, device, test_loader, evaluator)\n",
    "\n",
    "  train_acc, valid_acc, test_acc = train_result[dataset.eval_metric], val_result[dataset.eval_metric], test_result[dataset.eval_metric]\n",
    "  if valid_acc > best_valid_acc:\n",
    "      best_valid_acc = valid_acc\n",
    "      best_model = copy.deepcopy(model)\n",
    "  print(f'Epoch: {epoch:02d}, '\n",
    "        f'Loss: {loss:.4f}, '\n",
    "        f'Train: {100 * train_acc:.2f}%, '\n",
    "        f'Valid: {100 * valid_acc:.2f}% '\n",
    "        f'Test: {100 * test_acc:.2f}%')"
   ]
  },
  {
   "cell_type": "code",
   "execution_count": 34,
   "id": "579b95a8",
   "metadata": {},
   "outputs": [
    {
     "data": {
      "application/vnd.jupyter.widget-view+json": {
       "model_id": "0cb44516e3ba4ac3a7690e35d9ad074e",
       "version_major": 2,
       "version_minor": 0
      },
      "text/plain": [
       "Iteration:   0%|          | 0/1029 [00:00<?, ?it/s]"
      ]
     },
     "metadata": {},
     "output_type": "display_data"
    },
    {
     "data": {
      "application/vnd.jupyter.widget-view+json": {
       "model_id": "3fca0c672f6347359f71b678cee49281",
       "version_major": 2,
       "version_minor": 0
      },
      "text/plain": [
       "Iteration:   0%|          | 0/129 [00:00<?, ?it/s]"
      ]
     },
     "metadata": {},
     "output_type": "display_data"
    },
    {
     "data": {
      "application/vnd.jupyter.widget-view+json": {
       "model_id": "4c1c7641205d45a598c8f0d6bcfd38ce",
       "version_major": 2,
       "version_minor": 0
      },
      "text/plain": [
       "Iteration:   0%|          | 0/129 [00:00<?, ?it/s]"
      ]
     },
     "metadata": {},
     "output_type": "display_data"
    },
    {
     "name": "stdout",
     "output_type": "stream",
     "text": [
      "Best model: Train: 82.83%, Valid: 81.23% Test: 75.65%\n"
     ]
    }
   ],
   "source": [
    "train_acc = eval(best_model, device, train_loader, evaluator)[dataset.eval_metric]\n",
    "valid_acc = eval(best_model, device, valid_loader, evaluator)[dataset.eval_metric]\n",
    "test_acc = eval(best_model, device, test_loader, evaluator)[dataset.eval_metric]\n",
    "\n",
    "print(f'Best model: '\n",
    "      f'Train: {100 * train_acc:.2f}%, '\n",
    "      f'Valid: {100 * valid_acc:.2f}% '\n",
    "      f'Test: {100 * test_acc:.2f}%')"
   ]
  },
  {
   "cell_type": "markdown",
   "id": "bfad5897",
   "metadata": {},
   "source": [
    "## Faites des tests avec deux autres couches de global pooling de Pytorch Geometric."
   ]
  },
  {
   "cell_type": "code",
   "execution_count": null,
   "id": "7e69e586",
   "metadata": {},
   "outputs": [],
   "source": [
    "# Réutilisez le code précédent (en changeant uniquement la couche de pooling)"
   ]
  }
 ],
 "metadata": {
  "kernelspec": {
   "display_name": "Python 3 (ipykernel)",
   "language": "python",
   "name": "python3"
  },
  "language_info": {
   "codemirror_mode": {
    "name": "ipython",
    "version": 3
   },
   "file_extension": ".py",
   "mimetype": "text/x-python",
   "name": "python",
   "nbconvert_exporter": "python",
   "pygments_lexer": "ipython3",
   "version": "3.10.8"
  }
 },
 "nbformat": 4,
 "nbformat_minor": 5
}
